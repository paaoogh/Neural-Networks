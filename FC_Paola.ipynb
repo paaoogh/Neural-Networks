{
 "cells": [
  {
   "cell_type": "code",
   "execution_count": 1,
   "metadata": {},
   "outputs": [],
   "source": [
    "import fastai as fai\n",
    "import torch\n",
    "import torch.nn as nn #ésta es la biblioteca que me va a ayudar para hacer redes convolucionales desde 0\n",
    "from math import prod,sqrt"
   ]
  },
  {
   "cell_type": "code",
   "execution_count": 2,
   "metadata": {},
   "outputs": [],
   "source": [
    "bs = 4 #la cantidad de datos que tengo\n",
    "n= 5\n",
    "\n",
    "x = torch.rand(bs,n) #esto realmente hay que obtenerlo de mis datos"
   ]
  },
  {
   "cell_type": "code",
   "execution_count": 3,
   "metadata": {},
   "outputs": [],
   "source": [
    "red_neuronal = nn.Sequential( #modulo que corre en orden de como le pase mis cosas\n",
    "    nn.Linear(5,10), #la transformacion afin de R5 -->R10, la va a inicial con parametros aleatorios\n",
    "    nn.ReLU(), #no tiene parametros, el de 0 en negativos e identidad en positivos\n",
    "    nn.Linear(10,8), #si arriba terminé en 10, acá empiezo en 10\n",
    "    nn.LeakyReLU(negative_slope=0.1), #Activación también\n",
    "    nn.Linear(8,3) #Ojo: la mayúscula\n",
    ") #lo del gradiente, lo hace por ti"
   ]
  },
  {
   "cell_type": "code",
   "execution_count": 4,
   "metadata": {},
   "outputs": [
    {
     "data": {
      "text/plain": [
       "tensor([[-0.3770, -0.5443,  0.4194],\n",
       "        [-0.3136, -0.6394,  0.4006],\n",
       "        [-0.3505, -0.5547,  0.3650],\n",
       "        [-0.3808, -0.5559,  0.4025]], grad_fn=<AddmmBackward>)"
      ]
     },
     "execution_count": 4,
     "metadata": {},
     "output_type": "execute_result"
    }
   ],
   "source": [
    "red_neuronal(x) #Es básicamente una función, no?"
   ]
  },
  {
   "cell_type": "code",
   "execution_count": 5,
   "metadata": {},
   "outputs": [
    {
     "data": {
      "text/plain": [
       "torch.Size([4, 3])"
      ]
     },
     "execution_count": 5,
     "metadata": {},
     "output_type": "execute_result"
    }
   ],
   "source": [
    "red_neuronal(x).shape  #mi bs = 4, y terminamos en 3 en nn.Linear"
   ]
  },
  {
   "cell_type": "code",
   "execution_count": 6,
   "metadata": {},
   "outputs": [
    {
     "data": {
      "text/plain": [
       "Sequential(\n",
       "  (0): Linear(in_features=5, out_features=10, bias=True)\n",
       "  (1): ReLU()\n",
       "  (2): Linear(in_features=10, out_features=8, bias=True)\n",
       "  (3): LeakyReLU(negative_slope=0.1)\n",
       "  (4): Linear(in_features=8, out_features=3, bias=True)\n",
       ")"
      ]
     },
     "execution_count": 6,
     "metadata": {},
     "output_type": "execute_result"
    }
   ],
   "source": [
    "red_neuronal #aquí vemos lo que es"
   ]
  },
  {
   "cell_type": "code",
   "execution_count": 7,
   "metadata": {},
   "outputs": [],
   "source": [
    "a = red_neuronal[0]"
   ]
  },
  {
   "cell_type": "code",
   "execution_count": 8,
   "metadata": {},
   "outputs": [
    {
     "data": {
      "text/plain": [
       "Linear(in_features=5, out_features=10, bias=True)"
      ]
     },
     "execution_count": 8,
     "metadata": {},
     "output_type": "execute_result"
    }
   ],
   "source": [
    "a #--> puede hacer muchas cosas"
   ]
  },
  {
   "cell_type": "code",
   "execution_count": 9,
   "metadata": {},
   "outputs": [
    {
     "data": {
      "text/plain": [
       "[Parameter containing:\n",
       " tensor([[ 0.0619, -0.2575, -0.0193,  0.1420,  0.1170],\n",
       "         [-0.0534, -0.1907, -0.0554,  0.2394,  0.4070],\n",
       "         [-0.1713,  0.4090, -0.3770,  0.1895, -0.0500],\n",
       "         [ 0.3492,  0.4156,  0.3119, -0.0692, -0.2002],\n",
       "         [-0.4035,  0.4135,  0.2850, -0.3936,  0.1792],\n",
       "         [ 0.1879, -0.2287, -0.4462,  0.0956, -0.0955],\n",
       "         [-0.0768, -0.3489,  0.0968, -0.0354,  0.2361],\n",
       "         [ 0.1133, -0.2388,  0.3564,  0.0265, -0.0573],\n",
       "         [-0.2057,  0.4130, -0.3842,  0.0013,  0.2527],\n",
       "         [-0.0882,  0.2600, -0.1081,  0.2254,  0.3325]], requires_grad=True),\n",
       " Parameter containing:\n",
       " tensor([ 0.0375,  0.0604,  0.2001,  0.2975, -0.1845,  0.2628,  0.4341, -0.3754,\n",
       "          0.0175,  0.4448], requires_grad=True)]"
      ]
     },
     "execution_count": 9,
     "metadata": {},
     "output_type": "execute_result"
    }
   ],
   "source": [
    "list(a.parameters())#[0].shape ---> la matriz que multiplica\n",
    "\n",
    "#Estos parámetros son los que la red neuronal va a aprender, no son la X realmente de mis datos"
   ]
  },
  {
   "cell_type": "code",
   "execution_count": 10,
   "metadata": {},
   "outputs": [],
   "source": [
    "x = torch.randn(8,8)"
   ]
  },
  {
   "cell_type": "code",
   "execution_count": 11,
   "metadata": {},
   "outputs": [],
   "source": [
    "activacion = nn.ReLU()"
   ]
  },
  {
   "cell_type": "code",
   "execution_count": 12,
   "metadata": {},
   "outputs": [
    {
     "data": {
      "text/plain": [
       "tensor([[0.0000, 0.3618, 1.0804, 0.7151, 0.0302, 1.2746, 0.4946, 0.0000],\n",
       "        [0.0977, 0.7602, 0.3758, 0.2634, 0.0000, 0.0000, 0.0901, 0.0000],\n",
       "        [0.0586, 0.3055, 0.0000, 0.7045, 0.5401, 0.0709, 0.0000, 2.2053],\n",
       "        [0.2658, 0.5627, 0.0000, 0.8004, 1.8809, 0.0419, 0.0000, 0.3632],\n",
       "        [0.8476, 0.0000, 2.8918, 1.0049, 0.0000, 0.8782, 1.1536, 0.0000],\n",
       "        [0.0000, 0.1193, 0.0000, 0.0000, 0.0000, 0.2077, 0.0000, 0.0000],\n",
       "        [0.0044, 0.0000, 0.0000, 0.0000, 0.0000, 0.0000, 0.8747, 1.0401],\n",
       "        [0.0231, 0.0000, 0.0000, 0.0000, 0.8624, 1.6859, 2.0868, 0.0000]])"
      ]
     },
     "execution_count": 12,
     "metadata": {},
     "output_type": "execute_result"
    }
   ],
   "source": [
    "activacion(x) #---> nn.ReLU()(x)"
   ]
  },
  {
   "cell_type": "code",
   "execution_count": 13,
   "metadata": {},
   "outputs": [
    {
     "data": {
      "text/plain": [
       "tensor([[-2.2439,  0.3618,  1.0804,  0.7151,  0.0302,  1.2746,  0.4946, -0.4572],\n",
       "        [ 0.0977,  0.7602,  0.3758,  0.2634, -1.9141, -1.3462,  0.0901, -2.1926],\n",
       "        [ 0.0586,  0.3055, -0.6753,  0.7045,  0.5401,  0.0709, -0.2273,  2.2053],\n",
       "        [ 0.2658,  0.5627, -0.0270,  0.8004,  1.8809,  0.0419, -2.5701,  0.3632],\n",
       "        [ 0.8476, -1.1119,  2.8918,  1.0049, -1.6778,  0.8782,  1.1536, -1.5947],\n",
       "        [-0.3924,  0.1193, -0.4357, -1.0457, -0.0116,  0.2077, -0.3649, -0.0055],\n",
       "        [ 0.0044, -0.9720, -0.3110, -0.3103, -0.2406, -0.0925,  0.8747,  1.0401],\n",
       "        [ 0.0231, -0.3967, -0.6948, -1.7352,  0.8624,  1.6859,  2.0868, -0.1001]])"
      ]
     },
     "execution_count": 13,
     "metadata": {},
     "output_type": "execute_result"
    }
   ],
   "source": [
    "x #---> todos los negativos los hizo 0 el ReLU!"
   ]
  },
  {
   "cell_type": "code",
   "execution_count": 14,
   "metadata": {},
   "outputs": [],
   "source": [
    "import fastai.vision.all as fv\n",
    "from torchvision.transforms import ToTensor, ToPILImage\n",
    "to_tensor = ToTensor()\n",
    "to_pil = ToPILImage()"
   ]
  },
  {
   "cell_type": "code",
   "execution_count": 15,
   "metadata": {},
   "outputs": [],
   "source": [
    "img = fv.PILImage.create(\"exa.png\")\n",
    "img_tensor = to_tensor(img)"
   ]
  },
  {
   "cell_type": "code",
   "execution_count": 16,
   "metadata": {},
   "outputs": [
    {
     "data": {
      "text/plain": [
       "torch.Size([3, 600, 600])"
      ]
     },
     "execution_count": 16,
     "metadata": {},
     "output_type": "execute_result"
    }
   ],
   "source": [
    "img_tensor.shape"
   ]
  },
  {
   "cell_type": "code",
   "execution_count": 17,
   "metadata": {},
   "outputs": [],
   "source": [
    "conv = nn.Conv2d(3,1,kernel_size=3) #de cuánto por cuánto es el filtro, aquí es de 3x3"
   ]
  },
  {
   "cell_type": "code",
   "execution_count": 18,
   "metadata": {},
   "outputs": [
    {
     "data": {
      "text/plain": [
       "torch.Size([1, 1, 598, 598])"
      ]
     },
     "execution_count": 18,
     "metadata": {},
     "output_type": "execute_result"
    }
   ],
   "source": [
    "conv(img_tensor[None]).shape #torch está siempre esperando batches, entonces ese None es para agregar un batch de 1"
   ]
  },
  {
   "cell_type": "code",
   "execution_count": 19,
   "metadata": {},
   "outputs": [
    {
     "data": {
      "image/png": "[encoded data removed]",
      "text/plain": [
       "<PIL.Image.Image image mode=L size=598x598 at 0x7F74B5E60AC0>"
      ]
     },
     "execution_count": 19,
     "metadata": {},
     "output_type": "execute_result"
    }
   ],
   "source": [
    "f = to_pil(conv(img_tensor[None])[0]); f #este es un filtro aleatorio de hecho"
   ]
  },
  {
   "cell_type": "code",
   "execution_count": 20,
   "metadata": {},
   "outputs": [],
   "source": [
    "#Flatten servirá para conectar las capas convolucionales con las lineales (densas)\n",
    "class Flatten(nn.Module):\n",
    "    def __init__(self):#init es cuando creas un objeto siempre\n",
    "        super().__init__() #esto tambien es de cajon en todos los modulos de python\n",
    "    \n",
    "    def forward(self,x): #esta funcion lo unico que hace es pasar de convolucional a la parte lineal o densa\n",
    "        #return x.squeeze() #esto tiene un pequeño error cuando la Batch Size sea de 1: la va a quitar\n",
    "        return x.view(x.shape[0],-1) #o x.reshape\n",
    "\n",
    "def num_params(model):\n",
    "    total = 0\n",
    "    for p in model.parameters():\n",
    "        num = 1\n",
    "        for s in list(p.size()):\n",
    "            num *= s\n",
    "        total += num\n",
    "    return total\n",
    "    #return sum([prod(p.shape) for p in model.parameters]) #tomar el producto de p.shape para cada p en los parámetros"
   ]
  },
  {
   "cell_type": "code",
   "execution_count": 21,
   "metadata": {},
   "outputs": [],
   "source": [
    "model = nn.Sequential(\n",
    "    nn.Conv2d(3,32, kernel_size=3, stride=2, padding=1), #32 filtos de 3x3, salta de 2 en 2 pixeles, padding es para agregar el marco negro\n",
    "    nn.ReLU(),\n",
    "    nn.MaxPool2d(2), #Aqui tomaba el pixel mas grande de cada cuadro de 2x2\n",
    "    nn.Conv2d(32,64, kernel_size=3, stride=1, padding=1),\n",
    "    nn.ReLU(),\n",
    "    nn.MaxPool2d(2),\n",
    "    nn.Conv2d(64,128, kernel_size=3, stride=1, padding=21),\n",
    "    nn.ReLU(),\n",
    "    nn.MaxPool2d(2),\n",
    "    nn.Conv2d(128,256, kernel_size=3, stride=1, padding=1),\n",
    "    nn.ReLU(),\n",
    "    nn.MaxPool2d(2),\n",
    "    nn.Conv2d(256,512, kernel_size=3, stride=1, padding=1),\n",
    "    nn.ReLU(),\n",
    "    nn.AdaptiveAvgPool2d(1),\n",
    "    Flatten(),\n",
    "    nn.Linear(512,256),\n",
    "    nn.ReLU(),\n",
    "    nn.Linear(256,102))"
   ]
  },
  {
   "cell_type": "code",
   "execution_count": 22,
   "metadata": {},
   "outputs": [
    {
     "data": {
      "text/plain": [
       "Sequential(\n",
       "  (0): Conv2d(3, 32, kernel_size=(3, 3), stride=(2, 2), padding=(1, 1))\n",
       "  (1): ReLU()\n",
       "  (2): MaxPool2d(kernel_size=2, stride=2, padding=0, dilation=1, ceil_mode=False)\n",
       "  (3): Conv2d(32, 64, kernel_size=(3, 3), stride=(1, 1), padding=(1, 1))\n",
       "  (4): ReLU()\n",
       "  (5): MaxPool2d(kernel_size=2, stride=2, padding=0, dilation=1, ceil_mode=False)\n",
       "  (6): Conv2d(64, 128, kernel_size=(3, 3), stride=(1, 1), padding=(21, 21))\n",
       "  (7): ReLU()\n",
       "  (8): MaxPool2d(kernel_size=2, stride=2, padding=0, dilation=1, ceil_mode=False)\n",
       "  (9): Conv2d(128, 256, kernel_size=(3, 3), stride=(1, 1), padding=(1, 1))\n",
       "  (10): ReLU()\n",
       "  (11): MaxPool2d(kernel_size=2, stride=2, padding=0, dilation=1, ceil_mode=False)\n",
       "  (12): Conv2d(256, 512, kernel_size=(3, 3), stride=(1, 1), padding=(1, 1))\n",
       "  (13): ReLU()\n",
       "  (14): AdaptiveAvgPool2d(output_size=1)\n",
       "  (15): Flatten()\n",
       "  (16): Linear(in_features=512, out_features=256, bias=True)\n",
       "  (17): ReLU()\n",
       "  (18): Linear(in_features=256, out_features=102, bias=True)\n",
       ")"
      ]
     },
     "execution_count": 22,
     "metadata": {},
     "output_type": "execute_result"
    }
   ],
   "source": [
    "model"
   ]
  },
  {
   "cell_type": "code",
   "execution_count": 23,
   "metadata": {},
   "outputs": [
    {
     "data": {
      "text/plain": [
       "1726118"
      ]
     },
     "execution_count": 23,
     "metadata": {},
     "output_type": "execute_result"
    }
   ],
   "source": [
    "num_params(model)"
   ]
  },
  {
   "cell_type": "code",
   "execution_count": 24,
   "metadata": {},
   "outputs": [],
   "source": [
    "img = torch.rand(10,3,256,256)"
   ]
  },
  {
   "cell_type": "code",
   "execution_count": 25,
   "metadata": {},
   "outputs": [
    {
     "data": {
      "text/plain": [
       "torch.Size([10, 102])"
      ]
     },
     "execution_count": 25,
     "metadata": {},
     "output_type": "execute_result"
    }
   ],
   "source": [
    "model(img).shape"
   ]
  },
  {
   "cell_type": "code",
   "execution_count": 29,
   "metadata": {},
   "outputs": [],
   "source": [
    "def load_data(folder, img_size, batch_size):\n",
    "    \n",
    "    tfms = fv.aug_transforms(flip_vert=True, max_rotate=360, max_lighting=0.3,max_zoom=1.2,max_warp=0.2)\n",
    "    \n",
    "    data = fv.DataBlock(\n",
    "                        blocks    = (fv.ImageBlock, fv.CategoryBlock),\n",
    "                        get_items = fv.get_image_files,\n",
    "                        get_y     = lambda x: x.parent.name,\n",
    "                        splitter  = fv.GrandparentSplitter(),\n",
    "                        item_tfms = fv.Resize(img_size),\n",
    "                        batch_tfms= tfms,\n",
    "                     )\n",
    "    return data.dataloaders(folder,bs=batch_size)"
   ]
  },
  {
   "cell_type": "code",
   "execution_count": 27,
   "metadata": {},
   "outputs": [
    {
     "name": "stdout",
     "output_type": "stream",
     "text": [
      "train  valid\r\n"
     ]
    }
   ],
   "source": [
    "!ls flowers/"
   ]
  },
  {
   "cell_type": "code",
   "execution_count": 28,
   "metadata": {},
   "outputs": [],
   "source": [
    "data = load_data(\"flowers\", img_size=224, batch_size=128)"
   ]
  },
  {
   "cell_type": "code",
   "execution_count": 30,
   "metadata": {},
   "outputs": [],
   "source": [
    "learn = fv.Learner(data,model, metrics=fv.accuracy)"
   ]
  },
  {
   "cell_type": "code",
   "execution_count": 31,
   "metadata": {},
   "outputs": [
    {
     "data": {
      "text/html": [
       "<table border=\"1\" class=\"dataframe\">\n",
       "  <thead>\n",
       "    <tr style=\"text-align: left;\">\n",
       "      <th>epoch</th>\n",
       "      <th>train_loss</th>\n",
       "      <th>valid_loss</th>\n",
       "      <th>accuracy</th>\n",
       "      <th>time</th>\n",
       "    </tr>\n",
       "  </thead>\n",
       "  <tbody>\n",
       "    <tr>\n",
       "      <td>0</td>\n",
       "      <td>None</td>\n",
       "      <td>None</td>\n",
       "      <td>00:00</td>\n",
       "    </tr>\n",
       "  </tbody>\n",
       "</table>"
      ],
      "text/plain": [
       "<IPython.core.display.HTML object>"
      ]
     },
     "metadata": {},
     "output_type": "display_data"
    },
    {
     "data": {
      "text/plain": [
       "Sequential (Input shape: ['128 x 3 x 224 x 224'])\n",
       "================================================================\n",
       "Layer (type)         Output Shape         Param #    Trainable \n",
       "================================================================\n",
       "Conv2d               128 x 32 x 112 x 11  896        True      \n",
       "________________________________________________________________\n",
       "ReLU                 128 x 32 x 112 x 11  0          False     \n",
       "________________________________________________________________\n",
       "MaxPool2d            128 x 32 x 56 x 56   0          False     \n",
       "________________________________________________________________\n",
       "Conv2d               128 x 64 x 56 x 56   18,496     True      \n",
       "________________________________________________________________\n",
       "ReLU                 128 x 64 x 56 x 56   0          False     \n",
       "________________________________________________________________\n",
       "MaxPool2d            128 x 64 x 28 x 28   0          False     \n",
       "________________________________________________________________\n",
       "Conv2d               128 x 128 x 68 x 68  73,856     True      \n",
       "________________________________________________________________\n",
       "ReLU                 128 x 128 x 68 x 68  0          False     \n",
       "________________________________________________________________\n",
       "MaxPool2d            128 x 128 x 34 x 34  0          False     \n",
       "________________________________________________________________\n",
       "Conv2d               128 x 256 x 34 x 34  295,168    True      \n",
       "________________________________________________________________\n",
       "ReLU                 128 x 256 x 34 x 34  0          False     \n",
       "________________________________________________________________\n",
       "MaxPool2d            128 x 256 x 17 x 17  0          False     \n",
       "________________________________________________________________\n",
       "Conv2d               128 x 512 x 17 x 17  1,180,160  True      \n",
       "________________________________________________________________\n",
       "ReLU                 128 x 512 x 17 x 17  0          False     \n",
       "________________________________________________________________\n",
       "AdaptiveAvgPool2d    128 x 512 x 1 x 1    0          False     \n",
       "________________________________________________________________\n",
       "Flatten              128 x 512            0          False     \n",
       "________________________________________________________________\n",
       "Linear               128 x 256            131,328    True      \n",
       "________________________________________________________________\n",
       "ReLU                 128 x 256            0          False     \n",
       "________________________________________________________________\n",
       "Linear               128 x 102            26,214     True      \n",
       "________________________________________________________________\n",
       "\n",
       "Total params: 1,726,118\n",
       "Total trainable params: 1,726,118\n",
       "Total non-trainable params: 0\n",
       "\n",
       "Optimizer used: <function Adam at 0x7f74b5f63ca0>\n",
       "Loss function: FlattenedLoss of CrossEntropyLoss()\n",
       "\n",
       "Callbacks:\n",
       "  - TrainEvalCallback\n",
       "  - Recorder\n",
       "  - ProgressCallback"
      ]
     },
     "execution_count": 31,
     "metadata": {},
     "output_type": "execute_result"
    }
   ],
   "source": [
    "learn.summary()"
   ]
  },
  {
   "cell_type": "code",
   "execution_count": 32,
   "metadata": {},
   "outputs": [
    {
     "data": {
      "text/html": [
       "<table border=\"1\" class=\"dataframe\">\n",
       "  <thead>\n",
       "    <tr style=\"text-align: left;\">\n",
       "      <th>epoch</th>\n",
       "      <th>train_loss</th>\n",
       "      <th>valid_loss</th>\n",
       "      <th>accuracy</th>\n",
       "      <th>time</th>\n",
       "    </tr>\n",
       "  </thead>\n",
       "  <tbody>\n",
       "    <tr>\n",
       "      <td>0</td>\n",
       "      <td>4.591913</td>\n",
       "      <td>4.512928</td>\n",
       "      <td>0.033531</td>\n",
       "      <td>00:33</td>\n",
       "    </tr>\n",
       "    <tr>\n",
       "      <td>1</td>\n",
       "      <td>4.525660</td>\n",
       "      <td>4.426490</td>\n",
       "      <td>0.023669</td>\n",
       "      <td>00:29</td>\n",
       "    </tr>\n",
       "    <tr>\n",
       "      <td>2</td>\n",
       "      <td>4.324905</td>\n",
       "      <td>4.046619</td>\n",
       "      <td>0.045365</td>\n",
       "      <td>00:28</td>\n",
       "    </tr>\n",
       "    <tr>\n",
       "      <td>3</td>\n",
       "      <td>4.094046</td>\n",
       "      <td>3.914843</td>\n",
       "      <td>0.071006</td>\n",
       "      <td>00:28</td>\n",
       "    </tr>\n",
       "    <tr>\n",
       "      <td>4</td>\n",
       "      <td>3.923824</td>\n",
       "      <td>3.740126</td>\n",
       "      <td>0.084813</td>\n",
       "      <td>00:28</td>\n",
       "    </tr>\n",
       "    <tr>\n",
       "      <td>5</td>\n",
       "      <td>3.765228</td>\n",
       "      <td>3.610031</td>\n",
       "      <td>0.098619</td>\n",
       "      <td>00:28</td>\n",
       "    </tr>\n",
       "    <tr>\n",
       "      <td>6</td>\n",
       "      <td>3.640478</td>\n",
       "      <td>3.532201</td>\n",
       "      <td>0.118343</td>\n",
       "      <td>00:28</td>\n",
       "    </tr>\n",
       "    <tr>\n",
       "      <td>7</td>\n",
       "      <td>3.576878</td>\n",
       "      <td>3.516321</td>\n",
       "      <td>0.122288</td>\n",
       "      <td>00:28</td>\n",
       "    </tr>\n",
       "  </tbody>\n",
       "</table>"
      ],
      "text/plain": [
       "<IPython.core.display.HTML object>"
      ]
     },
     "metadata": {},
     "output_type": "display_data"
    }
   ],
   "source": [
    "learn.fit_one_cycle(8,1e-3)"
   ]
  },
  {
   "cell_type": "code",
   "execution_count": 33,
   "metadata": {},
   "outputs": [],
   "source": [
    "B = nn.BatchNorm1d(20)"
   ]
  },
  {
   "cell_type": "code",
   "execution_count": 34,
   "metadata": {},
   "outputs": [
    {
     "data": {
      "text/plain": [
       "tensor([[-1.7515, -1.5057,  1.1148,  ..., -0.9487,  0.2692,  1.2566],\n",
       "        [-1.6995, -1.0321,  0.7428,  ...,  1.2302, -0.2971, -1.2382],\n",
       "        [-0.7498, -0.6053, -0.8800,  ...,  0.9956,  0.2985, -1.3107],\n",
       "        ...,\n",
       "        [-1.0888,  1.1238,  0.1995,  ..., -0.0260, -0.7977,  0.8815],\n",
       "        [-0.8720,  0.6446, -1.0413,  ...,  0.2442,  0.9630,  0.7169],\n",
       "        [ 1.1339,  1.0676, -1.4710,  ...,  0.0199, -1.4392,  1.5948]],\n",
       "       grad_fn=<NativeBatchNormBackward>)"
      ]
     },
     "execution_count": 34,
     "metadata": {},
     "output_type": "execute_result"
    }
   ],
   "source": [
    "x = torch.rand(64,20)\n",
    "B(x)"
   ]
  },
  {
   "cell_type": "code",
   "execution_count": 35,
   "metadata": {},
   "outputs": [
    {
     "data": {
      "text/plain": [
       "Parameter containing:\n",
       "tensor([1., 1., 1., 1., 1., 1., 1., 1., 1., 1., 1., 1., 1., 1., 1., 1., 1., 1.,\n",
       "        1., 1.], requires_grad=True)"
      ]
     },
     "execution_count": 35,
     "metadata": {},
     "output_type": "execute_result"
    }
   ],
   "source": [
    "B.weight"
   ]
  },
  {
   "cell_type": "code",
   "execution_count": 36,
   "metadata": {},
   "outputs": [
    {
     "data": {
      "text/plain": [
       "Sequential(\n",
       "  (0): BatchNorm2d(3, eps=1e-05, momentum=0.1, affine=True, track_running_stats=True)\n",
       "  (1): Conv2d(3, 16, kernel_size=(3, 3), stride=(1, 1))\n",
       "  (2): ReLU()\n",
       "  (3): BatchNorm2d(16, eps=1e-05, momentum=0.1, affine=True, track_running_stats=True)\n",
       "  (4): Conv2d(16, 32, kernel_size=(3, 3), stride=(1, 1))\n",
       "  (5): ReLU()\n",
       "  (6): BatchNorm2d(32, eps=1e-05, momentum=0.1, affine=True, track_running_stats=True)\n",
       ")"
      ]
     },
     "execution_count": 36,
     "metadata": {},
     "output_type": "execute_result"
    }
   ],
   "source": [
    "nn.Sequential(nn.BatchNorm2d(3), #esto es a consideración de Raggi... súper sí hazlo.\n",
    "              nn.Conv2d(3,16,kernel_size=3),\n",
    "              nn.ReLU(),\n",
    "              nn.BatchNorm2d(16),\n",
    "              nn.Conv2d(16,32,kernel_size=3),\n",
    "              nn.ReLU(),\n",
    "              nn.BatchNorm2d(32),\n",
    "             )"
   ]
  },
  {
   "cell_type": "code",
   "execution_count": 37,
   "metadata": {},
   "outputs": [],
   "source": [
    "class ResBlock(nn.Module):\n",
    "    def __init__(self, residual):\n",
    "        super().__init__()\n",
    "        self.residual = residual\n",
    "    \n",
    "    def forward(self, x):\n",
    "        return x + self.residual(x)"
   ]
  },
  {
   "cell_type": "code",
   "execution_count": 38,
   "metadata": {},
   "outputs": [],
   "source": [
    "def crear_residual(filters):\n",
    "    bottleneck = (filters+1)//2 #ese uno es para que si es impar se tome la parte entera por arriba...\n",
    "    residual = nn.Sequential(\n",
    "        nn.Conv2d(filters, bottleneck, kernel_size=1), #esto es como para reducir el tamaño, es como una compresión\n",
    "        nn.ReLU(),\n",
    "        nn.BatchNorm2d(bottleneck),\n",
    "        nn.Conv2d(bottleneck, bottleneck, kernel_size=3, padding=1), #ya es una convolución bien en la cosa comprimida\n",
    "        nn.ReLU(),\n",
    "        nn.BatchNorm2d(bottleneck),\n",
    "        nn.Conv2d(bottleneck, filters, kernel_size=3), #descomprimir otra vez\n",
    "        nn.ReLU(),\n",
    "        nn.BatchNorm2d(filters) #tenemos que terminar con BatchNorm, debería empezar con unos...\n",
    "    ) #como que lo que queremos es que este resblock sea la identidad, y a partir de ahí aprenda cosas\n",
    "    nn.init.constant_(residual[-1].weight,0)\n",
    "    return residual"
   ]
  },
  {
   "cell_type": "code",
   "execution_count": 39,
   "metadata": {},
   "outputs": [
    {
     "data": {
      "text/plain": [
       "ResBlock(\n",
       "  (residual): Sequential(\n",
       "    (0): Conv2d(16, 8, kernel_size=(1, 1), stride=(1, 1))\n",
       "    (1): ReLU()\n",
       "    (2): BatchNorm2d(8, eps=1e-05, momentum=0.1, affine=True, track_running_stats=True)\n",
       "    (3): Conv2d(8, 8, kernel_size=(3, 3), stride=(1, 1), padding=(1, 1))\n",
       "    (4): ReLU()\n",
       "    (5): BatchNorm2d(8, eps=1e-05, momentum=0.1, affine=True, track_running_stats=True)\n",
       "    (6): Conv2d(8, 16, kernel_size=(3, 3), stride=(1, 1))\n",
       "    (7): ReLU()\n",
       "    (8): BatchNorm2d(16, eps=1e-05, momentum=0.1, affine=True, track_running_stats=True)\n",
       "  )\n",
       ")"
      ]
     },
     "execution_count": 39,
     "metadata": {},
     "output_type": "execute_result"
    }
   ],
   "source": [
    "ResBlock(crear_residual(16)) #ESTO YA ES TODAS LAS VARIANTES DE RESNET18, POR EJEMPLO"
   ]
  },
  {
   "cell_type": "code",
   "execution_count": 40,
   "metadata": {},
   "outputs": [
    {
     "data": {
      "text/html": [],
      "text/plain": [
       "<IPython.core.display.HTML object>"
      ]
     },
     "metadata": {},
     "output_type": "display_data"
    }
   ],
   "source": [
    "cls, index, probs = learn.predict(\"flowers/valid/bird-of-paradise/image_03306.jpg\")"
   ]
  },
  {
   "cell_type": "code",
   "execution_count": 41,
   "metadata": {},
   "outputs": [
    {
     "data": {
      "text/plain": [
       "TensorImage([0.0097, 0.0098, 0.0097, 0.0097, 0.0097, 0.0097, 0.0098, 0.0098, 0.0098,\n",
       "        0.0106, 0.0097, 0.0097, 0.0098, 0.0097, 0.0097, 0.0098, 0.0098, 0.0098,\n",
       "        0.0099, 0.0098, 0.0098, 0.0097, 0.0097, 0.0098, 0.0098, 0.0097, 0.0099,\n",
       "        0.0097, 0.0098, 0.0097, 0.0098, 0.0099, 0.0098, 0.0097, 0.0098, 0.0097,\n",
       "        0.0117, 0.0097, 0.0097, 0.0097, 0.0097, 0.0098, 0.0097, 0.0098, 0.0097,\n",
       "        0.0097, 0.0097, 0.0097, 0.0099, 0.0098, 0.0097, 0.0097, 0.0097, 0.0098,\n",
       "        0.0097, 0.0097, 0.0099, 0.0097, 0.0097, 0.0097, 0.0097, 0.0097, 0.0097,\n",
       "        0.0099, 0.0097, 0.0098, 0.0097, 0.0097, 0.0099, 0.0098, 0.0097, 0.0097,\n",
       "        0.0110, 0.0097, 0.0099, 0.0097, 0.0098, 0.0098, 0.0102, 0.0097, 0.0097,\n",
       "        0.0097, 0.0097, 0.0097, 0.0097, 0.0097, 0.0097, 0.0097, 0.0097, 0.0098,\n",
       "        0.0097, 0.0098, 0.0097, 0.0097, 0.0100, 0.0097, 0.0098, 0.0106, 0.0098,\n",
       "        0.0098, 0.0097, 0.0098])"
      ]
     },
     "execution_count": 41,
     "metadata": {},
     "output_type": "execute_result"
    }
   ],
   "source": [
    "torch.softmax(probs,dim=0)"
   ]
  },
  {
   "cell_type": "code",
   "execution_count": 42,
   "metadata": {},
   "outputs": [],
   "source": [
    "some_images = fv.get_image_files(\"flowers/valid/\")"
   ]
  },
  {
   "cell_type": "code",
   "execution_count": 43,
   "metadata": {},
   "outputs": [
    {
     "data": {
      "text/plain": [
       "507"
      ]
     },
     "execution_count": 43,
     "metadata": {},
     "output_type": "execute_result"
    }
   ],
   "source": [
    "len(some_images)"
   ]
  },
  {
   "cell_type": "code",
   "execution_count": 44,
   "metadata": {},
   "outputs": [],
   "source": [
    "test_dl = learn.dls.test_dl(some_images)"
   ]
  },
  {
   "cell_type": "code",
   "execution_count": 45,
   "metadata": {},
   "outputs": [
    {
     "data": {
      "text/html": [],
      "text/plain": [
       "<IPython.core.display.HTML object>"
      ]
     },
     "metadata": {},
     "output_type": "display_data"
    }
   ],
   "source": [
    "preds = learn.get_preds(dl=test_dl)"
   ]
  },
  {
   "cell_type": "code",
   "execution_count": 46,
   "metadata": {},
   "outputs": [
    {
     "data": {
      "text/plain": [
       "torch.Size([507, 102])"
      ]
     },
     "execution_count": 46,
     "metadata": {},
     "output_type": "execute_result"
    }
   ],
   "source": [
    "preds[0].shape"
   ]
  },
  {
   "cell_type": "code",
   "execution_count": 47,
   "metadata": {},
   "outputs": [],
   "source": [
    "probs,I = preds[0].max(dim=1) #de las 507 imágenes dame el máximo "
   ]
  },
  {
   "cell_type": "code",
   "execution_count": 48,
   "metadata": {},
   "outputs": [
    {
     "data": {
      "text/plain": [
       "TensorImage([97, 66, 78, 73, 73, 10, 97, 78, 78, 66, 69, 66, 66, 35, 73, 69, 88, 30,\n",
       "        30, 88, 66, 30, 15, 66, 66, 66,  3, 69, 69, 96, 97, 69, 97, 10, 66, 66,\n",
       "        36, 66, 88, 78, 78, 36, 36, 36, 36, 72, 10,  1, 10, 10, 10, 10, 41, 33,\n",
       "        18, 33, 78, 78, 78, 98, 78, 78, 66, 69, 69, 30, 66, 66, 69, 98, 69, 98,\n",
       "        78, 41, 88, 72, 36, 36, 36, 36, 18, 18, 18, 18, 18, 18, 69, 73, 66, 73,\n",
       "        78, 78, 41, 78, 18, 36, 96, 96, 35, 69, 69, 69, 69, 69, 69, 66, 69, 15,\n",
       "        78, 69, 97, 97, 97, 30, 35, 69, 35, 69, 66, 66, 36, 36, 98, 18, 18, 97,\n",
       "        73, 66, 97, 78, 36, 36, 96, 18, 36, 36, 10, 10, 69, 69, 69, 66, 30, 30,\n",
       "        66, 69, 88, 69, 97, 18, 36, 36,  3, 73, 10, 30, 96, 98, 98, 98, 72, 97,\n",
       "        69, 69, 97, 66, 66, 35, 66, 66, 66, 72, 69, 36, 36, 36, 36, 97, 36, 36,\n",
       "        69, 97, 36, 36, 66, 69, 69, 69, 66, 66, 66, 69, 66, 66, 69, 69, 66, 96,\n",
       "        18, 33, 98, 98, 41, 41, 10, 10, 10, 10, 78, 66, 66, 97, 18, 36, 66, 66,\n",
       "        66, 66, 66, 66, 66, 66, 69, 69, 69, 69, 78, 15, 36, 41, 10, 15, 10, 15,\n",
       "        69, 69, 10, 96,  3, 66, 97, 66, 66, 78, 97, 97, 69, 66, 69, 69, 97, 97,\n",
       "        97,  3, 97, 97, 97, 66, 66, 66, 66, 97, 97, 97, 69, 96, 78, 41, 78, 18,\n",
       "        18, 96, 18, 73, 30, 66, 66, 66, 66, 66, 66, 66, 66, 66, 66, 66, 69, 69,\n",
       "        66, 66, 66, 66, 36, 96, 78, 78, 69, 35, 69, 69, 97, 66, 36, 66, 66, 66,\n",
       "        66, 66, 69, 97, 66, 66, 66, 97, 66, 69, 97, 66, 66, 66, 66, 66, 66, 66,\n",
       "        96,  1, 30, 10, 88, 10, 30, 10, 97, 73, 66, 66, 66, 15, 35, 30, 69, 66,\n",
       "        66, 15,  3, 35, 66, 66, 66, 66, 66, 69, 97, 97, 72, 72, 72, 72, 97, 10,\n",
       "        10, 66, 73, 73, 73, 96, 10, 97, 36, 98, 96, 96, 73, 97, 97, 97, 97, 78,\n",
       "        78, 78, 97, 10, 78, 69, 69, 36, 69, 36, 36, 36, 97, 69, 69, 66, 66, 66,\n",
       "        69, 66, 97, 69, 97,  3, 66, 66, 72,  3, 66, 66, 66, 69, 66, 66, 66, 66,\n",
       "        66, 33, 96, 33, 96, 66, 66, 69, 69, 30,  3, 10, 35, 72, 97, 66, 66, 78,\n",
       "        98, 88, 78, 66, 66, 66, 66, 66, 66, 66, 66, 78, 96, 97, 66, 69, 30, 69,\n",
       "        69, 97, 97, 97, 36, 10, 78,  1, 98, 10, 96, 96, 96, 96, 33, 98, 33, 10,\n",
       "        96, 96, 96, 78, 97, 97, 30, 97, 69, 36, 97, 97, 97, 97, 36, 69, 96, 96,\n",
       "         1, 10, 98, 96, 96, 36, 98, 98, 36, 96, 97, 97, 66, 97, 66, 97, 66, 69,\n",
       "        36, 36, 36])"
      ]
     },
     "execution_count": 48,
     "metadata": {},
     "output_type": "execute_result"
    }
   ],
   "source": [
    "I"
   ]
  },
  {
   "cell_type": "code",
   "execution_count": 50,
   "metadata": {},
   "outputs": [
    {
     "name": "stdout",
     "output_type": "stream",
     "text": [
      "flowers/valid/alpine-sea-holly/image_06982.jpg is predicted to be water-lily\n",
      "flowers/valid/alpine-sea-holly/image_06997.jpg is predicted to be passion-flower\n",
      "flowers/valid/anthurium/image_01969.jpg is predicted to be rose\n",
      "flowers/valid/anthurium/image_01983.jpg is predicted to be poinsettia\n",
      "flowers/valid/anthurium/image_02023.jpg is predicted to be poinsettia\n",
      "flowers/valid/anthurium/image_02048.jpg is predicted to be bishop-of-llandaff\n",
      "flowers/valid/anthurium/image_02050.jpg is predicted to be water-lily\n",
      "flowers/valid/anthurium/image_02052.jpg is predicted to be rose\n",
      "flowers/valid/anthurium/image_02061.jpg is predicted to be rose\n",
      "flowers/valid/artichoke/image_04090.jpg is predicted to be passion-flower\n",
      "flowers/valid/artichoke/image_04095.jpg is predicted to be petunia\n",
      "flowers/valid/artichoke/image_04097.jpg is predicted to be passion-flower\n",
      "flowers/valid/artichoke/image_04130.jpg is predicted to be passion-flower\n",
      "flowers/valid/artichoke/image_04140.jpg is predicted to be foxglove\n",
      "flowers/valid/azalea/image_03566.jpg is predicted to be poinsettia\n",
      "flowers/valid/azalea/image_03570.jpg is predicted to be petunia\n",
      "flowers/valid/azalea/image_03579.jpg is predicted to be sweet-william\n",
      "flowers/valid/azalea/image_03592.jpg is predicted to be cyclamen\n",
      "flowers/valid/azalea/image_03605.jpg is predicted to be cyclamen\n",
      "flowers/valid/azalea/image_03633.jpg is predicted to be sweet-william\n",
      "flowers/valid/ball-moss/image_06030.jpg is predicted to be passion-flower\n",
      "flowers/valid/ball-moss/image_06038.jpg is predicted to be cyclamen\n",
      "flowers/valid/ball-moss/image_06042.jpg is predicted to be bougainvillea\n",
      "flowers/valid/balloon-flower/image_06171.jpg is predicted to be passion-flower\n",
      "flowers/valid/balloon-flower/image_06183.jpg is predicted to be passion-flower\n",
      "flowers/valid/balloon-flower/image_06195.jpg is predicted to be passion-flower\n",
      "flowers/valid/barbeton-daisy/image_02198.jpg is predicted to be azalea\n",
      "flowers/valid/barbeton-daisy/image_02216.jpg is predicted to be petunia\n",
      "flowers/valid/barbeton-daisy/image_02241.jpg is predicted to be petunia\n",
      "flowers/valid/barbeton-daisy/image_02251.jpg is predicted to be wallflower\n",
      "flowers/valid/barbeton-daisy/image_02256.jpg is predicted to be water-lily\n",
      "flowers/valid/barbeton-daisy/image_02302.jpg is predicted to be petunia\n",
      "flowers/valid/barbeton-daisy/image_02306.jpg is predicted to be water-lily\n",
      "flowers/valid/barbeton-daisy/image_02314.jpg is predicted to be bishop-of-llandaff\n",
      "flowers/valid/bearded-iris/image_05939.jpg is predicted to be passion-flower\n",
      "flowers/valid/bearded-iris/image_05946.jpg is predicted to be passion-flower\n",
      "flowers/valid/bearded-iris/image_05952.jpg is predicted to be frangipani\n",
      "flowers/valid/bee-balm/image_03044.jpg is predicted to be passion-flower\n",
      "flowers/valid/bee-balm/image_03061.jpg is predicted to be sweet-william\n",
      "flowers/valid/bee-balm/image_03082.jpg is predicted to be rose\n",
      "flowers/valid/bee-balm/image_03088.jpg is predicted to be rose\n",
      "flowers/valid/bird-of-paradise/image_03290.jpg is predicted to be frangipani\n",
      "flowers/valid/bird-of-paradise/image_03302.jpg is predicted to be frangipani\n",
      "flowers/valid/bird-of-paradise/image_03306.jpg is predicted to be frangipani\n",
      "flowers/valid/bird-of-paradise/image_03356.jpg is predicted to be frangipani\n",
      "flowers/valid/bird-of-paradise/image_03366.jpg is predicted to be pink-yellow-dahlia\n",
      "flowers/valid/bishop-of-llandaff/image_02760.jpg is predicted to be bishop-of-llandaff\n",
      "flowers/valid/bishop-of-llandaff/image_02779.jpg is predicted to be anthurium\n",
      "flowers/valid/bishop-of-llandaff/image_02801.jpg is predicted to be bishop-of-llandaff\n",
      "flowers/valid/bishop-of-llandaff/image_02806.jpg is predicted to be bishop-of-llandaff\n",
      "flowers/valid/bishop-of-llandaff/image_02825.jpg is predicted to be bishop-of-llandaff\n",
      "flowers/valid/bishop-of-llandaff/image_02832.jpg is predicted to be bishop-of-llandaff\n",
      "flowers/valid/bishop-of-llandaff/image_02843.jpg is predicted to be geranium\n",
      "flowers/valid/black-eyed-susan/image_05863.jpg is predicted to be english-marigold\n",
      "flowers/valid/black-eyed-susan/image_05876.jpg is predicted to be californian-poppy\n",
      "flowers/valid/black-eyed-susan/image_05880.jpg is predicted to be english-marigold\n",
      "flowers/valid/blackberry-lily/image_08027.jpg is predicted to be rose\n",
      "flowers/valid/blackberry-lily/image_08036.jpg is predicted to be rose\n",
      "flowers/valid/blackberry-lily/image_08039.jpg is predicted to be rose\n",
      "flowers/valid/blanket-flower/image_07899.jpg is predicted to be watercress\n",
      "flowers/valid/blanket-flower/image_07912.jpg is predicted to be rose\n",
      "flowers/valid/blanket-flower/image_07932.jpg is predicted to be rose\n",
      "flowers/valid/bolero-deep-blue/image_07145.jpg is predicted to be passion-flower\n",
      "flowers/valid/bolero-deep-blue/image_07159.jpg is predicted to be petunia\n",
      "flowers/valid/bougainvillea/image_07470.jpg is predicted to be petunia\n",
      "flowers/valid/bougainvillea/image_07514.jpg is predicted to be cyclamen\n",
      "flowers/valid/bougainvillea/image_07517.jpg is predicted to be passion-flower\n",
      "flowers/valid/bougainvillea/image_07521.jpg is predicted to be passion-flower\n",
      "flowers/valid/bougainvillea/image_07538.jpg is predicted to be petunia\n",
      "flowers/valid/bougainvillea/image_07539.jpg is predicted to be watercress\n",
      "flowers/valid/bougainvillea/image_07577.jpg is predicted to be petunia\n",
      "flowers/valid/bougainvillea/image_07584.jpg is predicted to be watercress\n",
      "flowers/valid/bromelia/image_07845.jpg is predicted to be rose\n",
      "flowers/valid/bromelia/image_07863.jpg is predicted to be geranium\n",
      "flowers/valid/bromelia/image_07876.jpg is predicted to be sweet-william\n",
      "flowers/valid/bromelia/image_07885.jpg is predicted to be pink-yellow-dahlia\n",
      "flowers/valid/buttercup/image_04661.jpg is predicted to be frangipani\n",
      "flowers/valid/buttercup/image_04668.jpg is predicted to be frangipani\n",
      "flowers/valid/buttercup/image_04673.jpg is predicted to be frangipani\n",
      "flowers/valid/buttercup/image_04689.jpg is predicted to be frangipani\n",
      "flowers/valid/californian-poppy/image_03196.jpg is predicted to be californian-poppy\n",
      "flowers/valid/californian-poppy/image_03214.jpg is predicted to be californian-poppy\n",
      "flowers/valid/californian-poppy/image_03228.jpg is predicted to be californian-poppy\n",
      "flowers/valid/californian-poppy/image_03250.jpg is predicted to be californian-poppy\n",
      "flowers/valid/californian-poppy/image_03268.jpg is predicted to be californian-poppy\n",
      "flowers/valid/californian-poppy/image_03281.jpg is predicted to be californian-poppy\n",
      "flowers/valid/camellia/image_07600.jpg is predicted to be petunia\n",
      "flowers/valid/camellia/image_07613.jpg is predicted to be poinsettia\n",
      "flowers/valid/camellia/image_07667.jpg is predicted to be passion-flower\n",
      "flowers/valid/camellia/image_07671.jpg is predicted to be poinsettia\n",
      "flowers/valid/camellia/image_07676.jpg is predicted to be rose\n",
      "flowers/valid/camellia/image_07678.jpg is predicted to be rose\n",
      "flowers/valid/camellia/image_07727.jpg is predicted to be geranium\n",
      "flowers/valid/canna-lily/image_04424.jpg is predicted to be rose\n",
      "flowers/valid/canna-lily/image_04425.jpg is predicted to be californian-poppy\n",
      "flowers/valid/canna-lily/image_04462.jpg is predicted to be frangipani\n",
      "flowers/valid/canna-lily/image_04467.jpg is predicted to be wallflower\n",
      "flowers/valid/canna-lily/image_04474.jpg is predicted to be wallflower\n",
      "flowers/valid/canterbury-bells/image_06621.jpg is predicted to be foxglove\n",
      "flowers/valid/canterbury-bells/image_06648.jpg is predicted to be petunia\n",
      "flowers/valid/cape-flower/image_03747.jpg is predicted to be petunia\n",
      "flowers/valid/cape-flower/image_03790.jpg is predicted to be petunia\n",
      "flowers/valid/cape-flower/image_03791.jpg is predicted to be petunia\n",
      "flowers/valid/cape-flower/image_03819.jpg is predicted to be petunia\n",
      "flowers/valid/cape-flower/image_03822.jpg is predicted to be petunia\n",
      "flowers/valid/cape-flower/image_07285.jpg is predicted to be passion-flower\n",
      "flowers/valid/cape-flower/image_07291.jpg is predicted to be petunia\n",
      "flowers/valid/carnation/image_06893.jpg is predicted to be bougainvillea\n",
      "flowers/valid/carnation/image_06923.jpg is predicted to be rose\n",
      "flowers/valid/carnation/image_06926.jpg is predicted to be petunia\n",
      "flowers/valid/cautleya-spicata/image_06251.jpg is predicted to be water-lily\n",
      "flowers/valid/cautleya-spicata/image_06274.jpg is predicted to be water-lily\n",
      "flowers/valid/cautleya-spicata/image_06277.jpg is predicted to be water-lily\n",
      "flowers/valid/clematis/image_01588.jpg is predicted to be cyclamen\n",
      "flowers/valid/clematis/image_01609.jpg is predicted to be foxglove\n",
      "flowers/valid/clematis/image_01618.jpg is predicted to be petunia\n",
      "flowers/valid/clematis/image_01621.jpg is predicted to be foxglove\n",
      "flowers/valid/clematis/image_01637.jpg is predicted to be petunia\n",
      "flowers/valid/clematis/image_01683.jpg is predicted to be passion-flower\n",
      "flowers/valid/clematis/image_01689.jpg is predicted to be passion-flower\n",
      "flowers/valid/colts-foot/image_03995.jpg is predicted to be frangipani\n",
      "flowers/valid/colts-foot/image_03998.jpg is predicted to be frangipani\n",
      "flowers/valid/colts-foot/image_04018.jpg is predicted to be watercress\n",
      "flowers/valid/colts-foot/image_04030.jpg is predicted to be californian-poppy\n",
      "flowers/valid/colts-foot/image_04039.jpg is predicted to be californian-poppy\n",
      "flowers/valid/columbine/image_02557.jpg is predicted to be water-lily\n",
      "flowers/valid/columbine/image_02561.jpg is predicted to be poinsettia\n",
      "flowers/valid/columbine/image_02579.jpg is predicted to be passion-flower\n",
      "flowers/valid/columbine/image_02631.jpg is predicted to be water-lily\n",
      "flowers/valid/columbine/image_02633.jpg is predicted to be rose\n",
      "flowers/valid/common-dandelion/image_06301.jpg is predicted to be frangipani\n",
      "flowers/valid/common-dandelion/image_06334.jpg is predicted to be frangipani\n",
      "flowers/valid/common-dandelion/image_06341.jpg is predicted to be wallflower\n",
      "flowers/valid/common-dandelion/image_06536.jpg is predicted to be californian-poppy\n",
      "flowers/valid/common-dandelion/image_06542.jpg is predicted to be frangipani\n",
      "flowers/valid/common-dandelion/image_06565.jpg is predicted to be frangipani\n",
      "flowers/valid/corn-poppy/image_06494.jpg is predicted to be bishop-of-llandaff\n",
      "flowers/valid/corn-poppy/image_06521.jpg is predicted to be bishop-of-llandaff\n",
      "flowers/valid/cyclamen/image_00454.jpg is predicted to be petunia\n",
      "flowers/valid/cyclamen/image_00461.jpg is predicted to be petunia\n",
      "flowers/valid/cyclamen/image_00474.jpg is predicted to be petunia\n",
      "flowers/valid/cyclamen/image_00498.jpg is predicted to be passion-flower\n",
      "flowers/valid/cyclamen/image_00527.jpg is predicted to be cyclamen\n",
      "flowers/valid/cyclamen/image_00548.jpg is predicted to be cyclamen\n",
      "flowers/valid/cyclamen/image_00549.jpg is predicted to be passion-flower\n",
      "flowers/valid/cyclamen/image_00550.jpg is predicted to be petunia\n",
      "flowers/valid/cyclamen/image_00566.jpg is predicted to be sweet-william\n",
      "flowers/valid/cyclamen/image_00588.jpg is predicted to be petunia\n",
      "flowers/valid/daffodil/image_05688.jpg is predicted to be water-lily\n",
      "flowers/valid/daffodil/image_05709.jpg is predicted to be californian-poppy\n",
      "flowers/valid/daffodil/image_05714.jpg is predicted to be frangipani\n",
      "flowers/valid/daffodil/image_05739.jpg is predicted to be frangipani\n",
      "flowers/valid/desert-rose/image_04804.jpg is predicted to be azalea\n",
      "flowers/valid/desert-rose/image_04806.jpg is predicted to be poinsettia\n",
      "flowers/valid/desert-rose/image_04807.jpg is predicted to be bishop-of-llandaff\n",
      "flowers/valid/desert-rose/image_04826.jpg is predicted to be cyclamen\n",
      "flowers/valid/english-marigold/image_05160.jpg is predicted to be wallflower\n",
      "flowers/valid/english-marigold/image_05181.jpg is predicted to be watercress\n",
      "flowers/valid/english-marigold/image_05201.jpg is predicted to be watercress\n",
      "flowers/valid/english-marigold/image_05203.jpg is predicted to be watercress\n",
      "flowers/valid/fire-lily/image_06786.jpg is predicted to be pink-yellow-dahlia\n",
      "flowers/valid/fire-lily/image_06803.jpg is predicted to be water-lily\n",
      "flowers/valid/foxglove/image_07306.jpg is predicted to be petunia\n",
      "flowers/valid/foxglove/image_07317.jpg is predicted to be petunia\n",
      "flowers/valid/foxglove/image_07321.jpg is predicted to be water-lily\n",
      "flowers/valid/foxglove/image_07327.jpg is predicted to be passion-flower\n",
      "flowers/valid/foxglove/image_07334.jpg is predicted to be passion-flower\n",
      "flowers/valid/foxglove/image_07339.jpg is predicted to be foxglove\n",
      "flowers/valid/foxglove/image_07344.jpg is predicted to be passion-flower\n",
      "flowers/valid/foxglove/image_07409.jpg is predicted to be passion-flower\n",
      "flowers/valid/foxglove/image_07413.jpg is predicted to be passion-flower\n",
      "flowers/valid/foxglove/image_07448.jpg is predicted to be pink-yellow-dahlia\n",
      "flowers/valid/foxglove/image_07461.jpg is predicted to be petunia\n",
      "flowers/valid/frangipani/image_00791.jpg is predicted to be frangipani\n",
      "flowers/valid/frangipani/image_00821.jpg is predicted to be frangipani\n",
      "flowers/valid/frangipani/image_00839.jpg is predicted to be frangipani\n",
      "flowers/valid/frangipani/image_00841.jpg is predicted to be frangipani\n",
      "flowers/valid/frangipani/image_00845.jpg is predicted to be water-lily\n",
      "flowers/valid/frangipani/image_00846.jpg is predicted to be frangipani\n",
      "flowers/valid/frangipani/image_00873.jpg is predicted to be frangipani\n",
      "flowers/valid/frangipani/image_00884.jpg is predicted to be petunia\n",
      "flowers/valid/frangipani/image_00900.jpg is predicted to be water-lily\n",
      "flowers/valid/frangipani/image_00905.jpg is predicted to be frangipani\n",
      "flowers/valid/frangipani/image_00922.jpg is predicted to be frangipani\n",
      "flowers/valid/fritillary/image_03373.jpg is predicted to be passion-flower\n",
      "flowers/valid/fritillary/image_03387.jpg is predicted to be petunia\n",
      "flowers/valid/fritillary/image_03388.jpg is predicted to be petunia\n",
      "flowers/valid/fritillary/image_03412.jpg is predicted to be petunia\n",
      "flowers/valid/fritillary/image_03419.jpg is predicted to be passion-flower\n",
      "flowers/valid/fritillary/image_03420.jpg is predicted to be passion-flower\n",
      "flowers/valid/garden-phlox/image_05598.jpg is predicted to be passion-flower\n",
      "flowers/valid/garden-phlox/image_05602.jpg is predicted to be petunia\n",
      "flowers/valid/garden-phlox/image_05615.jpg is predicted to be passion-flower\n",
      "flowers/valid/gaura/image_07240.jpg is predicted to be passion-flower\n",
      "flowers/valid/gaura/image_07261.jpg is predicted to be petunia\n",
      "flowers/valid/gaura/image_08122.jpg is predicted to be petunia\n",
      "flowers/valid/gaura/image_08148.jpg is predicted to be passion-flower\n",
      "flowers/valid/gazania/image_04488.jpg is predicted to be wallflower\n",
      "flowers/valid/gazania/image_04489.jpg is predicted to be californian-poppy\n",
      "flowers/valid/gazania/image_04493.jpg is predicted to be english-marigold\n",
      "flowers/valid/gazania/image_04494.jpg is predicted to be watercress\n",
      "flowers/valid/gazania/image_04499.jpg is predicted to be watercress\n",
      "flowers/valid/geranium/image_02673.jpg is predicted to be geranium\n",
      "flowers/valid/geranium/image_02675.jpg is predicted to be geranium\n",
      "flowers/valid/geranium/image_02702.jpg is predicted to be bishop-of-llandaff\n",
      "flowers/valid/geranium/image_02711.jpg is predicted to be bishop-of-llandaff\n",
      "flowers/valid/geranium/image_02737.jpg is predicted to be bishop-of-llandaff\n",
      "flowers/valid/geranium/image_02744.jpg is predicted to be bishop-of-llandaff\n",
      "flowers/valid/geranium/image_02751.jpg is predicted to be rose\n",
      "flowers/valid/giant-white-arum-lily/image_04907.jpg is predicted to be passion-flower\n",
      "flowers/valid/giant-white-arum-lily/image_04917.jpg is predicted to be passion-flower\n",
      "flowers/valid/giant-white-arum-lily/image_04931.jpg is predicted to be water-lily\n",
      "flowers/valid/globe-flower/image_06675.jpg is predicted to be californian-poppy\n",
      "flowers/valid/globe-flower/image_06690.jpg is predicted to be frangipani\n",
      "flowers/valid/globe-thistle/image_07088.jpg is predicted to be passion-flower\n",
      "flowers/valid/globe-thistle/image_07111.jpg is predicted to be passion-flower\n",
      "flowers/valid/globe-thistle/image_08095.jpg is predicted to be passion-flower\n",
      "flowers/valid/grape-hyacinth/image_06574.jpg is predicted to be passion-flower\n",
      "flowers/valid/grape-hyacinth/image_06586.jpg is predicted to be passion-flower\n",
      "flowers/valid/great-masterwort/image_05797.jpg is predicted to be passion-flower\n",
      "flowers/valid/great-masterwort/image_05804.jpg is predicted to be passion-flower\n",
      "flowers/valid/great-masterwort/image_05814.jpg is predicted to be passion-flower\n",
      "flowers/valid/hard-leaved-pocket-orchid/image_05097.jpg is predicted to be petunia\n",
      "flowers/valid/hard-leaved-pocket-orchid/image_05123.jpg is predicted to be petunia\n",
      "flowers/valid/hard-leaved-pocket-orchid/image_05125.jpg is predicted to be petunia\n",
      "flowers/valid/hard-leaved-pocket-orchid/image_05139.jpg is predicted to be petunia\n",
      "flowers/valid/hibiscus/image_01702.jpg is predicted to be rose\n",
      "flowers/valid/hibiscus/image_01706.jpg is predicted to be bougainvillea\n",
      "flowers/valid/hibiscus/image_01708.jpg is predicted to be frangipani\n",
      "flowers/valid/hibiscus/image_01709.jpg is predicted to be geranium\n",
      "flowers/valid/hibiscus/image_01713.jpg is predicted to be bishop-of-llandaff\n",
      "flowers/valid/hibiscus/image_01798.jpg is predicted to be bougainvillea\n",
      "flowers/valid/hibiscus/image_01807.jpg is predicted to be bishop-of-llandaff\n",
      "flowers/valid/hibiscus/image_01824.jpg is predicted to be bougainvillea\n",
      "flowers/valid/hippeastrum/image_04833.jpg is predicted to be petunia\n",
      "flowers/valid/hippeastrum/image_04846.jpg is predicted to be petunia\n",
      "flowers/valid/hippeastrum/image_04860.jpg is predicted to be bishop-of-llandaff\n",
      "flowers/valid/hippeastrum/image_04865.jpg is predicted to be wallflower\n",
      "flowers/valid/hippeastrum/image_08059.jpg is predicted to be azalea\n",
      "flowers/valid/japanese-anemone/image_08152.jpg is predicted to be passion-flower\n",
      "flowers/valid/japanese-anemone/image_08159.jpg is predicted to be water-lily\n",
      "flowers/valid/japanese-anemone/image_08177.jpg is predicted to be passion-flower\n",
      "flowers/valid/king-protea/image_05763.jpg is predicted to be passion-flower\n",
      "flowers/valid/king-protea/image_05778.jpg is predicted to be rose\n",
      "flowers/valid/king-protea/image_05791.jpg is predicted to be water-lily\n",
      "flowers/valid/lenten-rose/image_04580.jpg is predicted to be water-lily\n",
      "flowers/valid/lenten-rose/image_04585.jpg is predicted to be petunia\n",
      "flowers/valid/lenten-rose/image_04588.jpg is predicted to be passion-flower\n",
      "flowers/valid/lenten-rose/image_04594.jpg is predicted to be petunia\n",
      "flowers/valid/lotus/image_01839.jpg is predicted to be petunia\n",
      "flowers/valid/lotus/image_01858.jpg is predicted to be water-lily\n",
      "flowers/valid/lotus/image_01889.jpg is predicted to be water-lily\n",
      "flowers/valid/lotus/image_01904.jpg is predicted to be water-lily\n",
      "flowers/valid/lotus/image_01911.jpg is predicted to be azalea\n",
      "flowers/valid/lotus/image_01916.jpg is predicted to be water-lily\n",
      "flowers/valid/lotus/image_01918.jpg is predicted to be water-lily\n",
      "flowers/valid/lotus/image_01938.jpg is predicted to be water-lily\n",
      "flowers/valid/lotus/image_01952.jpg is predicted to be passion-flower\n",
      "flowers/valid/love-in-the-mist/image_06446.jpg is predicted to be passion-flower\n",
      "flowers/valid/love-in-the-mist/image_06460.jpg is predicted to be passion-flower\n",
      "flowers/valid/love-in-the-mist/image_06485.jpg is predicted to be passion-flower\n",
      "flowers/valid/magnolia/image_05476.jpg is predicted to be water-lily\n",
      "flowers/valid/magnolia/image_05487.jpg is predicted to be water-lily\n",
      "flowers/valid/magnolia/image_05494.jpg is predicted to be water-lily\n",
      "flowers/valid/magnolia/image_05497.jpg is predicted to be petunia\n",
      "flowers/valid/mallow/image_07696.jpg is predicted to be wallflower\n",
      "flowers/valid/mallow/image_07710.jpg is predicted to be rose\n",
      "flowers/valid/mallow/image_07727.jpg is predicted to be geranium\n",
      "flowers/valid/mallow/image_07737.jpg is predicted to be rose\n",
      "flowers/valid/marigold/image_04981.jpg is predicted to be californian-poppy\n",
      "flowers/valid/marigold/image_04997.jpg is predicted to be californian-poppy\n",
      "flowers/valid/marigold/image_05007.jpg is predicted to be wallflower\n",
      "flowers/valid/marigold/image_05013.jpg is predicted to be californian-poppy\n",
      "flowers/valid/mexican-aster/image_06945.jpg is predicted to be poinsettia\n",
      "flowers/valid/mexican-aster/image_06953.jpg is predicted to be cyclamen\n",
      "flowers/valid/mexican-petunia/image_07761.jpg is predicted to be passion-flower\n",
      "flowers/valid/mexican-petunia/image_07763.jpg is predicted to be passion-flower\n",
      "flowers/valid/mexican-petunia/image_07771.jpg is predicted to be passion-flower\n",
      "flowers/valid/mexican-petunia/image_07804.jpg is predicted to be passion-flower\n",
      "flowers/valid/mexican-petunia/image_07814.jpg is predicted to be passion-flower\n",
      "flowers/valid/monkshood/image_06397.jpg is predicted to be passion-flower\n",
      "flowers/valid/monkshood/image_06427.jpg is predicted to be passion-flower\n",
      "flowers/valid/monkshood/image_06436.jpg is predicted to be passion-flower\n",
      "flowers/valid/moon-orchid/image_07200.jpg is predicted to be passion-flower\n",
      "flowers/valid/moon-orchid/image_07216.jpg is predicted to be passion-flower\n",
      "flowers/valid/morning-glory/image_02471.jpg is predicted to be passion-flower\n",
      "flowers/valid/morning-glory/image_02475.jpg is predicted to be petunia\n",
      "flowers/valid/morning-glory/image_02491.jpg is predicted to be petunia\n",
      "flowers/valid/morning-glory/image_02496.jpg is predicted to be passion-flower\n",
      "flowers/valid/morning-glory/image_02502.jpg is predicted to be passion-flower\n",
      "flowers/valid/morning-glory/image_02512.jpg is predicted to be passion-flower\n",
      "flowers/valid/morning-glory/image_02516.jpg is predicted to be passion-flower\n",
      "flowers/valid/orange-dahlia/image_05026.jpg is predicted to be frangipani\n",
      "flowers/valid/orange-dahlia/image_05028.jpg is predicted to be wallflower\n",
      "flowers/valid/orange-dahlia/image_05036.jpg is predicted to be rose\n",
      "flowers/valid/orange-dahlia/image_05081.jpg is predicted to be rose\n",
      "flowers/valid/osteospermum/image_05559.jpg is predicted to be petunia\n",
      "flowers/valid/osteospermum/image_05561.jpg is predicted to be foxglove\n",
      "flowers/valid/osteospermum/image_05576.jpg is predicted to be petunia\n",
      "flowers/valid/osteospermum/image_05577.jpg is predicted to be petunia\n",
      "flowers/valid/oxeye-daisy/image_06204.jpg is predicted to be water-lily\n",
      "flowers/valid/oxeye-daisy/image_06210.jpg is predicted to be passion-flower\n",
      "flowers/valid/oxeye-daisy/image_06231.jpg is predicted to be frangipani\n",
      "flowers/valid/passion-flower/image_00009.jpg is predicted to be passion-flower\n",
      "flowers/valid/passion-flower/image_00022.jpg is predicted to be passion-flower\n",
      "flowers/valid/passion-flower/image_00028.jpg is predicted to be passion-flower\n",
      "flowers/valid/passion-flower/image_00040.jpg is predicted to be passion-flower\n",
      "flowers/valid/passion-flower/image_00075.jpg is predicted to be passion-flower\n",
      "flowers/valid/passion-flower/image_00083.jpg is predicted to be petunia\n",
      "flowers/valid/passion-flower/image_00098.jpg is predicted to be water-lily\n",
      "flowers/valid/passion-flower/image_00103.jpg is predicted to be passion-flower\n",
      "flowers/valid/passion-flower/image_00130.jpg is predicted to be passion-flower\n",
      "flowers/valid/passion-flower/image_00153.jpg is predicted to be passion-flower\n",
      "flowers/valid/passion-flower/image_00162.jpg is predicted to be water-lily\n",
      "flowers/valid/passion-flower/image_00167.jpg is predicted to be passion-flower\n",
      "flowers/valid/passion-flower/image_00180.jpg is predicted to be petunia\n",
      "flowers/valid/passion-flower/image_00183.jpg is predicted to be water-lily\n",
      "flowers/valid/passion-flower/image_00197.jpg is predicted to be passion-flower\n",
      "flowers/valid/passion-flower/image_00240.jpg is predicted to be passion-flower\n",
      "flowers/valid/passion-flower/image_00244.jpg is predicted to be passion-flower\n",
      "flowers/valid/pelargonium/image_04697.jpg is predicted to be passion-flower\n",
      "flowers/valid/pelargonium/image_04702.jpg is predicted to be passion-flower\n",
      "flowers/valid/pelargonium/image_04703.jpg is predicted to be passion-flower\n",
      "flowers/valid/pelargonium/image_04747.jpg is predicted to be passion-flower\n",
      "flowers/valid/peruvian-lily/image_04258.jpg is predicted to be wallflower\n",
      "flowers/valid/peruvian-lily/image_04278.jpg is predicted to be anthurium\n",
      "flowers/valid/peruvian-lily/image_04282.jpg is predicted to be cyclamen\n",
      "flowers/valid/peruvian-lily/image_04313.jpg is predicted to be bishop-of-llandaff\n",
      "flowers/valid/peruvian-lily/image_04320.jpg is predicted to be sweet-william\n",
      "flowers/valid/petunia/image_01335.jpg is predicted to be bishop-of-llandaff\n",
      "flowers/valid/petunia/image_01336.jpg is predicted to be cyclamen\n",
      "flowers/valid/petunia/image_01363.jpg is predicted to be bishop-of-llandaff\n",
      "flowers/valid/petunia/image_01372.jpg is predicted to be water-lily\n",
      "flowers/valid/petunia/image_01373.jpg is predicted to be poinsettia\n",
      "flowers/valid/petunia/image_01381.jpg is predicted to be passion-flower\n",
      "flowers/valid/petunia/image_01399.jpg is predicted to be passion-flower\n",
      "flowers/valid/petunia/image_01439.jpg is predicted to be passion-flower\n",
      "flowers/valid/petunia/image_03919.jpg is predicted to be bougainvillea\n",
      "flowers/valid/petunia/image_03928.jpg is predicted to be foxglove\n",
      "flowers/valid/petunia/image_03929.jpg is predicted to be cyclamen\n",
      "flowers/valid/petunia/image_03939.jpg is predicted to be petunia\n",
      "flowers/valid/petunia/image_03955.jpg is predicted to be passion-flower\n",
      "flowers/valid/petunia/image_03964.jpg is predicted to be passion-flower\n",
      "flowers/valid/petunia/image_03979.jpg is predicted to be bougainvillea\n",
      "flowers/valid/petunia/image_03980.jpg is predicted to be azalea\n",
      "flowers/valid/petunia/image_03992.jpg is predicted to be foxglove\n",
      "flowers/valid/pincushion-flower/image_05346.jpg is predicted to be passion-flower\n",
      "flowers/valid/pincushion-flower/image_05368.jpg is predicted to be passion-flower\n",
      "flowers/valid/pincushion-flower/image_05375.jpg is predicted to be passion-flower\n",
      "flowers/valid/pincushion-flower/image_05390.jpg is predicted to be passion-flower\n",
      "flowers/valid/pink-primrose/image_06734.jpg is predicted to be passion-flower\n",
      "flowers/valid/pink-primrose/image_06768.jpg is predicted to be petunia\n",
      "flowers/valid/pink-yellow-dahlia/image_02951.jpg is predicted to be water-lily\n",
      "flowers/valid/pink-yellow-dahlia/image_02964.jpg is predicted to be water-lily\n",
      "flowers/valid/pink-yellow-dahlia/image_02975.jpg is predicted to be pink-yellow-dahlia\n",
      "flowers/valid/pink-yellow-dahlia/image_02995.jpg is predicted to be pink-yellow-dahlia\n",
      "flowers/valid/pink-yellow-dahlia/image_02997.jpg is predicted to be pink-yellow-dahlia\n",
      "flowers/valid/pink-yellow-dahlia/image_03005.jpg is predicted to be pink-yellow-dahlia\n",
      "flowers/valid/pink-yellow-dahlia/image_03021.jpg is predicted to be water-lily\n",
      "flowers/valid/poinsettia/image_01516.jpg is predicted to be bishop-of-llandaff\n",
      "flowers/valid/poinsettia/image_01527.jpg is predicted to be bishop-of-llandaff\n",
      "flowers/valid/poinsettia/image_01535.jpg is predicted to be passion-flower\n",
      "flowers/valid/poinsettia/image_01536.jpg is predicted to be poinsettia\n",
      "flowers/valid/poinsettia/image_01543.jpg is predicted to be poinsettia\n",
      "flowers/valid/poinsettia/image_01563.jpg is predicted to be poinsettia\n",
      "flowers/valid/primula/image_03642.jpg is predicted to be wallflower\n",
      "flowers/valid/primula/image_03652.jpg is predicted to be bishop-of-llandaff\n",
      "flowers/valid/primula/image_03666.jpg is predicted to be water-lily\n",
      "flowers/valid/primula/image_03701.jpg is predicted to be frangipani\n",
      "flowers/valid/primula/image_03703.jpg is predicted to be watercress\n",
      "flowers/valid/primula/image_03713.jpg is predicted to be wallflower\n",
      "flowers/valid/prince-of-wales-feathers/image_06855.jpg is predicted to be wallflower\n",
      "flowers/valid/prince-of-wales-feathers/image_06883.jpg is predicted to be poinsettia\n",
      "flowers/valid/purple-coneflower/image_03852.jpg is predicted to be water-lily\n",
      "flowers/valid/purple-coneflower/image_03874.jpg is predicted to be water-lily\n",
      "flowers/valid/purple-coneflower/image_03893.jpg is predicted to be water-lily\n",
      "flowers/valid/purple-coneflower/image_03899.jpg is predicted to be water-lily\n",
      "flowers/valid/purple-coneflower/image_03901.jpg is predicted to be rose\n",
      "flowers/valid/red-ginger/image_06814.jpg is predicted to be rose\n",
      "flowers/valid/red-ginger/image_06825.jpg is predicted to be rose\n",
      "flowers/valid/rose/image_01150.jpg is predicted to be water-lily\n",
      "flowers/valid/rose/image_01164.jpg is predicted to be bishop-of-llandaff\n",
      "flowers/valid/rose/image_01191.jpg is predicted to be rose\n",
      "flowers/valid/rose/image_01209.jpg is predicted to be petunia\n",
      "flowers/valid/rose/image_01217.jpg is predicted to be petunia\n",
      "flowers/valid/rose/image_01233.jpg is predicted to be frangipani\n",
      "flowers/valid/rose/image_01240.jpg is predicted to be petunia\n",
      "flowers/valid/rose/image_01242.jpg is predicted to be frangipani\n",
      "flowers/valid/rose/image_01267.jpg is predicted to be frangipani\n",
      "flowers/valid/rose/image_01275.jpg is predicted to be frangipani\n",
      "flowers/valid/rose/image_01280.jpg is predicted to be water-lily\n",
      "flowers/valid/ruby-lipped-cattleya/image_04330.jpg is predicted to be petunia\n",
      "flowers/valid/ruby-lipped-cattleya/image_04349.jpg is predicted to be petunia\n",
      "flowers/valid/ruby-lipped-cattleya/image_04364.jpg is predicted to be passion-flower\n",
      "flowers/valid/ruby-lipped-cattleya/image_04370.jpg is predicted to be passion-flower\n",
      "flowers/valid/ruby-lipped-cattleya/image_04380.jpg is predicted to be passion-flower\n",
      "flowers/valid/siam-tulip/image_07037.jpg is predicted to be petunia\n",
      "flowers/valid/siam-tulip/image_07038.jpg is predicted to be passion-flower\n",
      "flowers/valid/silverbush/image_06119.jpg is predicted to be water-lily\n",
      "flowers/valid/silverbush/image_06133.jpg is predicted to be petunia\n",
      "flowers/valid/silverbush/image_06142.jpg is predicted to be water-lily\n",
      "flowers/valid/snapdragon/image_03096.jpg is predicted to be azalea\n",
      "flowers/valid/snapdragon/image_03113.jpg is predicted to be passion-flower\n",
      "flowers/valid/snapdragon/image_03125.jpg is predicted to be passion-flower\n",
      "flowers/valid/snapdragon/image_03137.jpg is predicted to be pink-yellow-dahlia\n",
      "flowers/valid/snapdragon/image_03151.jpg is predicted to be azalea\n",
      "flowers/valid/spear-thistle/image_06050.jpg is predicted to be passion-flower\n",
      "flowers/valid/spear-thistle/image_06064.jpg is predicted to be passion-flower\n",
      "flowers/valid/spear-thistle/image_06075.jpg is predicted to be passion-flower\n",
      "flowers/valid/spring-crocus/image_07049.jpg is predicted to be petunia\n",
      "flowers/valid/spring-crocus/image_07071.jpg is predicted to be passion-flower\n",
      "flowers/valid/stemless-gentian/image_05220.jpg is predicted to be passion-flower\n",
      "flowers/valid/stemless-gentian/image_05224.jpg is predicted to be passion-flower\n",
      "flowers/valid/stemless-gentian/image_05231.jpg is predicted to be passion-flower\n",
      "flowers/valid/stemless-gentian/image_05256.jpg is predicted to be passion-flower\n",
      "flowers/valid/sunflower/image_05431.jpg is predicted to be english-marigold\n",
      "flowers/valid/sunflower/image_05435.jpg is predicted to be wallflower\n",
      "flowers/valid/sunflower/image_05443.jpg is predicted to be english-marigold\n",
      "flowers/valid/sunflower/image_05456.jpg is predicted to be wallflower\n",
      "flowers/valid/sweet-pea/image_05640.jpg is predicted to be passion-flower\n",
      "flowers/valid/sweet-pea/image_05657.jpg is predicted to be passion-flower\n",
      "flowers/valid/sweet-pea/image_05664.jpg is predicted to be petunia\n",
      "flowers/valid/sweet-william/image_03479.jpg is predicted to be petunia\n",
      "flowers/valid/sweet-william/image_03480.jpg is predicted to be cyclamen\n",
      "flowers/valid/sweet-william/image_03482.jpg is predicted to be azalea\n",
      "flowers/valid/sweet-william/image_03492.jpg is predicted to be bishop-of-llandaff\n",
      "flowers/valid/sweet-william/image_03512.jpg is predicted to be foxglove\n",
      "flowers/valid/sword-lily/image_02331.jpg is predicted to be pink-yellow-dahlia\n",
      "flowers/valid/sword-lily/image_02343.jpg is predicted to be water-lily\n",
      "flowers/valid/sword-lily/image_02346.jpg is predicted to be passion-flower\n",
      "flowers/valid/sword-lily/image_02356.jpg is predicted to be passion-flower\n",
      "flowers/valid/sword-lily/image_02370.jpg is predicted to be rose\n",
      "flowers/valid/sword-lily/image_02389.jpg is predicted to be watercress\n",
      "flowers/valid/sword-lily/image_02407.jpg is predicted to be sweet-william\n",
      "flowers/valid/sword-lily/image_02415.jpg is predicted to be rose\n",
      "flowers/valid/thorn-apple/image_02090.jpg is predicted to be passion-flower\n",
      "flowers/valid/thorn-apple/image_02101.jpg is predicted to be passion-flower\n",
      "flowers/valid/thorn-apple/image_02103.jpg is predicted to be passion-flower\n",
      "flowers/valid/thorn-apple/image_02104.jpg is predicted to be passion-flower\n",
      "flowers/valid/thorn-apple/image_02118.jpg is predicted to be passion-flower\n",
      "flowers/valid/thorn-apple/image_02147.jpg is predicted to be passion-flower\n",
      "flowers/valid/thorn-apple/image_02164.jpg is predicted to be passion-flower\n",
      "flowers/valid/thorn-apple/image_02183.jpg is predicted to be passion-flower\n",
      "flowers/valid/tiger-lily/image_07171.jpg is predicted to be rose\n",
      "flowers/valid/tiger-lily/image_07177.jpg is predicted to be wallflower\n",
      "flowers/valid/tiger-lily/image_07180.jpg is predicted to be water-lily\n",
      "flowers/valid/toad-lily/image_06702.jpg is predicted to be passion-flower\n",
      "flowers/valid/toad-lily/image_06711.jpg is predicted to be petunia\n",
      "flowers/valid/tree-mallow/image_02868.jpg is predicted to be cyclamen\n",
      "flowers/valid/tree-mallow/image_02880.jpg is predicted to be petunia\n",
      "flowers/valid/tree-mallow/image_02891.jpg is predicted to be petunia\n",
      "flowers/valid/tree-poppy/image_05295.jpg is predicted to be water-lily\n",
      "flowers/valid/tree-poppy/image_05317.jpg is predicted to be water-lily\n",
      "flowers/valid/tree-poppy/image_05321.jpg is predicted to be water-lily\n",
      "flowers/valid/tree-poppy/image_05324.jpg is predicted to be frangipani\n",
      "flowers/valid/trumpet-creeper/image_07952.jpg is predicted to be bishop-of-llandaff\n",
      "flowers/valid/trumpet-creeper/image_07973.jpg is predicted to be rose\n",
      "flowers/valid/trumpet-creeper/image_07991.jpg is predicted to be anthurium\n",
      "flowers/valid/wallflower/image_00969.jpg is predicted to be watercress\n",
      "flowers/valid/wallflower/image_00974.jpg is predicted to be bishop-of-llandaff\n",
      "flowers/valid/wallflower/image_00983.jpg is predicted to be wallflower\n",
      "flowers/valid/wallflower/image_00988.jpg is predicted to be wallflower\n",
      "flowers/valid/wallflower/image_01003.jpg is predicted to be wallflower\n",
      "flowers/valid/wallflower/image_01008.jpg is predicted to be wallflower\n",
      "flowers/valid/wallflower/image_01059.jpg is predicted to be english-marigold\n",
      "flowers/valid/wallflower/image_01069.jpg is predicted to be watercress\n",
      "flowers/valid/wallflower/image_01078.jpg is predicted to be english-marigold\n",
      "flowers/valid/wallflower/image_01103.jpg is predicted to be bishop-of-llandaff\n",
      "flowers/valid/wallflower/image_01105.jpg is predicted to be wallflower\n",
      "flowers/valid/wallflower/image_01121.jpg is predicted to be wallflower\n",
      "flowers/valid/wallflower/image_01123.jpg is predicted to be wallflower\n",
      "flowers/valid/water-lily/image_00277.jpg is predicted to be rose\n",
      "flowers/valid/water-lily/image_00296.jpg is predicted to be water-lily\n",
      "flowers/valid/water-lily/image_00330.jpg is predicted to be water-lily\n",
      "flowers/valid/water-lily/image_00358.jpg is predicted to be cyclamen\n",
      "flowers/valid/water-lily/image_00363.jpg is predicted to be water-lily\n",
      "flowers/valid/water-lily/image_00377.jpg is predicted to be petunia\n",
      "flowers/valid/water-lily/image_00389.jpg is predicted to be frangipani\n",
      "flowers/valid/water-lily/image_00398.jpg is predicted to be water-lily\n",
      "flowers/valid/water-lily/image_00403.jpg is predicted to be water-lily\n",
      "flowers/valid/water-lily/image_00418.jpg is predicted to be water-lily\n",
      "flowers/valid/water-lily/image_00423.jpg is predicted to be water-lily\n",
      "flowers/valid/water-lily/image_00424.jpg is predicted to be frangipani\n",
      "flowers/valid/water-lily/image_00429.jpg is predicted to be petunia\n",
      "flowers/valid/watercress/image_00637.jpg is predicted to be wallflower\n",
      "flowers/valid/watercress/image_00667.jpg is predicted to be wallflower\n",
      "flowers/valid/watercress/image_00670.jpg is predicted to be anthurium\n",
      "flowers/valid/watercress/image_00685.jpg is predicted to be bishop-of-llandaff\n",
      "flowers/valid/watercress/image_00695.jpg is predicted to be watercress\n",
      "flowers/valid/watercress/image_00698.jpg is predicted to be wallflower\n",
      "flowers/valid/watercress/image_00701.jpg is predicted to be wallflower\n",
      "flowers/valid/watercress/image_00723.jpg is predicted to be frangipani\n",
      "flowers/valid/watercress/image_00741.jpg is predicted to be watercress\n",
      "flowers/valid/watercress/image_00744.jpg is predicted to be watercress\n",
      "flowers/valid/watercress/image_00755.jpg is predicted to be frangipani\n",
      "flowers/valid/watercress/image_00767.jpg is predicted to be wallflower\n",
      "flowers/valid/wild-pansy/image_04181.jpg is predicted to be water-lily\n",
      "flowers/valid/wild-pansy/image_04183.jpg is predicted to be water-lily\n",
      "flowers/valid/wild-pansy/image_04184.jpg is predicted to be passion-flower\n",
      "flowers/valid/wild-pansy/image_04196.jpg is predicted to be water-lily\n",
      "flowers/valid/wild-pansy/image_04225.jpg is predicted to be passion-flower\n",
      "flowers/valid/windflower/image_05958.jpg is predicted to be water-lily\n",
      "flowers/valid/windflower/image_05983.jpg is predicted to be passion-flower\n",
      "flowers/valid/windflower/image_06007.jpg is predicted to be petunia\n",
      "flowers/valid/yellow-iris/image_06367.jpg is predicted to be frangipani\n",
      "flowers/valid/yellow-iris/image_06375.jpg is predicted to be frangipani\n",
      "flowers/valid/yellow-iris/image_06389.jpg is predicted to be frangipani\n"
     ]
    }
   ],
   "source": [
    "for file,pred_clas in zip(some_images,I):\n",
    "    print(f\"{file} is predicted to be {learn.dls.vocab[pred_clas]}\")"
   ]
  },
  {
   "cell_type": "code",
   "execution_count": 51,
   "metadata": {},
   "outputs": [],
   "source": [
    "import PIL"
   ]
  },
  {
   "cell_type": "code",
   "execution_count": 52,
   "metadata": {},
   "outputs": [],
   "source": [
    "x = to_tensor(PIL.Image.open(\"flowers/valid/bird-of-paradise/image_03290.jpg\"))"
   ]
  },
  {
   "cell_type": "code",
   "execution_count": 53,
   "metadata": {},
   "outputs": [],
   "source": [
    "model.eval();"
   ]
  },
  {
   "cell_type": "code",
   "execution_count": 54,
   "metadata": {},
   "outputs": [],
   "source": [
    "y = model(x[None].cuda())"
   ]
  },
  {
   "cell_type": "code",
   "execution_count": 56,
   "metadata": {},
   "outputs": [
    {
     "data": {
      "text/plain": [
       "torch.Size([1, 102])"
      ]
     },
     "execution_count": 56,
     "metadata": {},
     "output_type": "execute_result"
    }
   ],
   "source": [
    "y.shape"
   ]
  },
  {
   "cell_type": "code",
   "execution_count": 55,
   "metadata": {},
   "outputs": [
    {
     "data": {
      "text/plain": [
       "torch.return_types.max(\n",
       "values=tensor([5.1192], device='cuda:0', grad_fn=<MaxBackward0>),\n",
       "indices=tensor([18], device='cuda:0'))"
      ]
     },
     "execution_count": 55,
     "metadata": {},
     "output_type": "execute_result"
    }
   ],
   "source": [
    "y.max(dim=1)"
   ]
  },
  {
   "cell_type": "code",
   "execution_count": 57,
   "metadata": {},
   "outputs": [
    {
     "data": {
      "text/plain": [
       "'californian-poppy'"
      ]
     },
     "execution_count": 57,
     "metadata": {},
     "output_type": "execute_result"
    }
   ],
   "source": [
    "learn.dls.vocab[18]"
   ]
  },
  {
   "cell_type": "markdown",
   "metadata": {},
   "source": [
    "## Sobreajuste, valid loss y train loss"
   ]
  },
  {
   "cell_type": "code",
   "execution_count": 60,
   "metadata": {},
   "outputs": [],
   "source": [
    "model = nn.Sequential(\n",
    "    nn.Conv2d(3,32, kernel_size=3, stride=2, padding=1),\n",
    "    nn.ReLU(),\n",
    "    nn.MaxPool2d(2),\n",
    "    nn.Conv2d(32,64, kernel_size=3, stride=2, padding=1),\n",
    "    nn.ReLU(),\n",
    "    nn.MaxPool2d(2),\n",
    "    nn.Conv2d(64,128, kernel_size=3, stride=2, padding=1),\n",
    "    nn.ReLU(),\n",
    "    nn.MaxPool2d(2),\n",
    "    nn.Conv2d(128,256, kernel_size=3, stride=2, padding=1),\n",
    "    nn.ReLU(),\n",
    "    nn.MaxPool2d(2),\n",
    "    nn.Conv2d(256,512, kernel_size=3, stride=2, padding=1),\n",
    "    nn.ReLU(),\n",
    "    nn.AdaptiveAvgPool2d(1),\n",
    "    Flatten(),\n",
    "    nn.Linear(512,256),\n",
    "    nn.ReLU(),\n",
    "    nn.Linear(256, data.c))"
   ]
  },
  {
   "cell_type": "code",
   "execution_count": 61,
   "metadata": {},
   "outputs": [
    {
     "data": {
      "text/plain": [
       "1726118"
      ]
     },
     "execution_count": 61,
     "metadata": {},
     "output_type": "execute_result"
    }
   ],
   "source": [
    "num_params(model)"
   ]
  },
  {
   "cell_type": "code",
   "execution_count": 62,
   "metadata": {},
   "outputs": [],
   "source": [
    "learn = fv.Learner(data,model, metrics=fv.accuracy)"
   ]
  },
  {
   "cell_type": "code",
   "execution_count": 63,
   "metadata": {},
   "outputs": [
    {
     "data": {
      "text/html": [
       "<table border=\"1\" class=\"dataframe\">\n",
       "  <thead>\n",
       "    <tr style=\"text-align: left;\">\n",
       "      <th>epoch</th>\n",
       "      <th>train_loss</th>\n",
       "      <th>valid_loss</th>\n",
       "      <th>accuracy</th>\n",
       "      <th>time</th>\n",
       "    </tr>\n",
       "  </thead>\n",
       "  <tbody>\n",
       "    <tr>\n",
       "      <td>0</td>\n",
       "      <td>4.600747</td>\n",
       "      <td>4.501410</td>\n",
       "      <td>0.033531</td>\n",
       "      <td>00:14</td>\n",
       "    </tr>\n",
       "    <tr>\n",
       "      <td>1</td>\n",
       "      <td>4.493979</td>\n",
       "      <td>4.197292</td>\n",
       "      <td>0.055227</td>\n",
       "      <td>00:14</td>\n",
       "    </tr>\n",
       "    <tr>\n",
       "      <td>2</td>\n",
       "      <td>4.138550</td>\n",
       "      <td>3.823603</td>\n",
       "      <td>0.053254</td>\n",
       "      <td>00:13</td>\n",
       "    </tr>\n",
       "    <tr>\n",
       "      <td>3</td>\n",
       "      <td>3.876669</td>\n",
       "      <td>3.723327</td>\n",
       "      <td>0.072978</td>\n",
       "      <td>00:13</td>\n",
       "    </tr>\n",
       "    <tr>\n",
       "      <td>4</td>\n",
       "      <td>3.614549</td>\n",
       "      <td>3.295103</td>\n",
       "      <td>0.140039</td>\n",
       "      <td>00:13</td>\n",
       "    </tr>\n",
       "    <tr>\n",
       "      <td>5</td>\n",
       "      <td>3.378543</td>\n",
       "      <td>3.149711</td>\n",
       "      <td>0.175542</td>\n",
       "      <td>00:13</td>\n",
       "    </tr>\n",
       "    <tr>\n",
       "      <td>6</td>\n",
       "      <td>3.223393</td>\n",
       "      <td>3.066974</td>\n",
       "      <td>0.179487</td>\n",
       "      <td>00:13</td>\n",
       "    </tr>\n",
       "    <tr>\n",
       "      <td>7</td>\n",
       "      <td>3.128405</td>\n",
       "      <td>3.020811</td>\n",
       "      <td>0.209073</td>\n",
       "      <td>00:13</td>\n",
       "    </tr>\n",
       "    <tr>\n",
       "      <td>8</td>\n",
       "      <td>3.052315</td>\n",
       "      <td>2.977964</td>\n",
       "      <td>0.218935</td>\n",
       "      <td>00:13</td>\n",
       "    </tr>\n",
       "    <tr>\n",
       "      <td>9</td>\n",
       "      <td>3.007945</td>\n",
       "      <td>2.979717</td>\n",
       "      <td>0.224852</td>\n",
       "      <td>00:13</td>\n",
       "    </tr>\n",
       "  </tbody>\n",
       "</table>"
      ],
      "text/plain": [
       "<IPython.core.display.HTML object>"
      ]
     },
     "metadata": {},
     "output_type": "display_data"
    }
   ],
   "source": [
    "learn.fit_one_cycle(10, 1e-3)"
   ]
  },
  {
   "cell_type": "code",
   "execution_count": 64,
   "metadata": {},
   "outputs": [],
   "source": [
    "model_bn = nn.Sequential(\n",
    "    nn.BatchNorm2d(3),\n",
    "    nn.Conv2d(3,32, kernel_size=3, stride=2, padding=1),\n",
    "    nn.ReLU(),\n",
    "    nn.MaxPool2d(2),\n",
    "    nn.Conv2d(32,64, kernel_size=3, stride=2, padding=1),\n",
    "    nn.BatchNorm2d(64),\n",
    "    nn.ReLU(),\n",
    "    nn.MaxPool2d(2),\n",
    "    nn.Conv2d(64,128, kernel_size=3, stride=2, padding=1),\n",
    "    nn.BatchNorm2d(128),\n",
    "    nn.ReLU(),\n",
    "    nn.MaxPool2d(2),\n",
    "    nn.Conv2d(128,256, kernel_size=3, stride=2, padding=1),\n",
    "    nn.BatchNorm2d(256),\n",
    "    nn.ReLU(),\n",
    "    nn.MaxPool2d(2),\n",
    "    nn.Conv2d(256,512, kernel_size=3, stride=2, padding=1),\n",
    "    nn.ReLU(),\n",
    "    nn.AdaptiveAvgPool2d(1),\n",
    "    Flatten(),\n",
    "    nn.BatchNorm1d(512),\n",
    "    nn.Linear(512,256),\n",
    "    nn.ReLU(),\n",
    "    nn.BatchNorm1d(256),\n",
    "    nn.Linear(256, data.c))"
   ]
  },
  {
   "cell_type": "code",
   "execution_count": 65,
   "metadata": {},
   "outputs": [
    {
     "data": {
      "text/plain": [
       "1728556"
      ]
     },
     "execution_count": 65,
     "metadata": {},
     "output_type": "execute_result"
    }
   ],
   "source": [
    "num_params(model_bn)"
   ]
  },
  {
   "cell_type": "code",
   "execution_count": 66,
   "metadata": {},
   "outputs": [],
   "source": [
    "learn = fv.Learner(data, model_bn, metrics=fv.accuracy)"
   ]
  },
  {
   "cell_type": "code",
   "execution_count": 67,
   "metadata": {},
   "outputs": [
    {
     "data": {
      "text/html": [
       "<table border=\"1\" class=\"dataframe\">\n",
       "  <thead>\n",
       "    <tr style=\"text-align: left;\">\n",
       "      <th>epoch</th>\n",
       "      <th>train_loss</th>\n",
       "      <th>valid_loss</th>\n",
       "      <th>accuracy</th>\n",
       "      <th>time</th>\n",
       "    </tr>\n",
       "  </thead>\n",
       "  <tbody>\n",
       "    <tr>\n",
       "      <td>0</td>\n",
       "      <td>4.199987</td>\n",
       "      <td>3.707392</td>\n",
       "      <td>0.189349</td>\n",
       "      <td>00:14</td>\n",
       "    </tr>\n",
       "    <tr>\n",
       "      <td>1</td>\n",
       "      <td>3.525244</td>\n",
       "      <td>3.263158</td>\n",
       "      <td>0.181460</td>\n",
       "      <td>00:14</td>\n",
       "    </tr>\n",
       "    <tr>\n",
       "      <td>2</td>\n",
       "      <td>2.993355</td>\n",
       "      <td>2.768752</td>\n",
       "      <td>0.303748</td>\n",
       "      <td>00:15</td>\n",
       "    </tr>\n",
       "    <tr>\n",
       "      <td>3</td>\n",
       "      <td>2.577736</td>\n",
       "      <td>2.288456</td>\n",
       "      <td>0.402367</td>\n",
       "      <td>00:14</td>\n",
       "    </tr>\n",
       "    <tr>\n",
       "      <td>4</td>\n",
       "      <td>2.261704</td>\n",
       "      <td>2.505145</td>\n",
       "      <td>0.353057</td>\n",
       "      <td>00:14</td>\n",
       "    </tr>\n",
       "    <tr>\n",
       "      <td>5</td>\n",
       "      <td>2.017345</td>\n",
       "      <td>2.052650</td>\n",
       "      <td>0.467456</td>\n",
       "      <td>00:14</td>\n",
       "    </tr>\n",
       "    <tr>\n",
       "      <td>6</td>\n",
       "      <td>1.798873</td>\n",
       "      <td>1.809221</td>\n",
       "      <td>0.510848</td>\n",
       "      <td>00:14</td>\n",
       "    </tr>\n",
       "    <tr>\n",
       "      <td>7</td>\n",
       "      <td>1.639304</td>\n",
       "      <td>1.486872</td>\n",
       "      <td>0.587771</td>\n",
       "      <td>00:14</td>\n",
       "    </tr>\n",
       "    <tr>\n",
       "      <td>8</td>\n",
       "      <td>1.507906</td>\n",
       "      <td>1.439790</td>\n",
       "      <td>0.605523</td>\n",
       "      <td>00:14</td>\n",
       "    </tr>\n",
       "    <tr>\n",
       "      <td>9</td>\n",
       "      <td>1.438527</td>\n",
       "      <td>1.456868</td>\n",
       "      <td>0.603550</td>\n",
       "      <td>00:15</td>\n",
       "    </tr>\n",
       "  </tbody>\n",
       "</table>"
      ],
      "text/plain": [
       "<IPython.core.display.HTML object>"
      ]
     },
     "metadata": {},
     "output_type": "display_data"
    }
   ],
   "source": [
    "learn.fit_one_cycle(10)"
   ]
  },
  {
   "cell_type": "markdown",
   "metadata": {},
   "source": [
    "## Momentum"
   ]
  },
  {
   "cell_type": "code",
   "execution_count": 69,
   "metadata": {},
   "outputs": [],
   "source": [
    "optim = fv.partial(fv.SGD,mom=0.9) #esta función ya tiene algunos de sus parámetros por mom"
   ]
  },
  {
   "cell_type": "code",
   "execution_count": 70,
   "metadata": {},
   "outputs": [],
   "source": [
    "learn = fv.Learner(data,model_bn,opt_func=optim,metrics=fv.accuracy)"
   ]
  },
  {
   "cell_type": "code",
   "execution_count": 71,
   "metadata": {},
   "outputs": [
    {
     "data": {
      "text/html": [
       "<table border=\"1\" class=\"dataframe\">\n",
       "  <thead>\n",
       "    <tr style=\"text-align: left;\">\n",
       "      <th>epoch</th>\n",
       "      <th>train_loss</th>\n",
       "      <th>valid_loss</th>\n",
       "      <th>accuracy</th>\n",
       "      <th>time</th>\n",
       "    </tr>\n",
       "  </thead>\n",
       "  <tbody>\n",
       "    <tr>\n",
       "      <td>0</td>\n",
       "      <td>1.413093</td>\n",
       "      <td>1.430893</td>\n",
       "      <td>0.591716</td>\n",
       "      <td>00:15</td>\n",
       "    </tr>\n",
       "  </tbody>\n",
       "</table>"
      ],
      "text/plain": [
       "<IPython.core.display.HTML object>"
      ]
     },
     "metadata": {},
     "output_type": "display_data"
    }
   ],
   "source": [
    "learn.fit_one_cycle(1)"
   ]
  },
  {
   "cell_type": "markdown",
   "metadata": {},
   "source": [
    "## One cycle training"
   ]
  },
  {
   "cell_type": "code",
   "execution_count": 72,
   "metadata": {},
   "outputs": [
    {
     "data": {
      "image/png": "[encoded data removed]",
      "text/plain": [
       "<Figure size 864x288 with 2 Axes>"
      ]
     },
     "metadata": {
      "needs_background": "light"
     },
     "output_type": "display_data"
    }
   ],
   "source": [
    "learn.recorder.plot_sched()"
   ]
  },
  {
   "cell_type": "code",
   "execution_count": 73,
   "metadata": {},
   "outputs": [
    {
     "data": {
      "text/html": [
       "<table border=\"1\" class=\"dataframe\">\n",
       "  <thead>\n",
       "    <tr style=\"text-align: left;\">\n",
       "      <th>epoch</th>\n",
       "      <th>train_loss</th>\n",
       "      <th>valid_loss</th>\n",
       "      <th>accuracy</th>\n",
       "      <th>time</th>\n",
       "    </tr>\n",
       "  </thead>\n",
       "  <tbody>\n",
       "    <tr>\n",
       "      <td>0</td>\n",
       "      <td>1.419440</td>\n",
       "      <td>1.425330</td>\n",
       "      <td>0.607495</td>\n",
       "      <td>00:14</td>\n",
       "    </tr>\n",
       "  </tbody>\n",
       "</table>"
      ],
      "text/plain": [
       "<IPython.core.display.HTML object>"
      ]
     },
     "metadata": {},
     "output_type": "display_data"
    }
   ],
   "source": [
    "learn.fit_one_cycle(1,1e-3,div=2,div_final=10, pct_start=0.8)"
   ]
  },
  {
   "cell_type": "code",
   "execution_count": 74,
   "metadata": {},
   "outputs": [
    {
     "data": {
      "image/png": "[encoded data removed]",
      "text/plain": [
       "<Figure size 864x288 with 2 Axes>"
      ]
     },
     "metadata": {
      "needs_background": "light"
     },
     "output_type": "display_data"
    }
   ],
   "source": [
    "learn.recorder.plot_sched()"
   ]
  },
  {
   "cell_type": "code",
   "execution_count": 76,
   "metadata": {},
   "outputs": [],
   "source": [
    "learn = fv.Learner(data,model_bn,opt_func=fv.ranger,metrics=fv.accuracy) #aquí usé Ranger"
   ]
  },
  {
   "cell_type": "code",
   "execution_count": 77,
   "metadata": {},
   "outputs": [
    {
     "data": {
      "text/html": [
       "<table border=\"1\" class=\"dataframe\">\n",
       "  <thead>\n",
       "    <tr style=\"text-align: left;\">\n",
       "      <th>epoch</th>\n",
       "      <th>train_loss</th>\n",
       "      <th>valid_loss</th>\n",
       "      <th>accuracy</th>\n",
       "      <th>time</th>\n",
       "    </tr>\n",
       "  </thead>\n",
       "  <tbody>\n",
       "    <tr>\n",
       "      <td>0</td>\n",
       "      <td>1.418962</td>\n",
       "      <td>1.465668</td>\n",
       "      <td>0.593688</td>\n",
       "      <td>00:15</td>\n",
       "    </tr>\n",
       "  </tbody>\n",
       "</table>"
      ],
      "text/plain": [
       "<IPython.core.display.HTML object>"
      ]
     },
     "metadata": {},
     "output_type": "display_data"
    }
   ],
   "source": [
    "learn.fit_one_cycle(1,1e-3,div=0.9,div_final=10000,pct_start=0.8) #te recomiendan estos valores "
   ]
  },
  {
   "cell_type": "code",
   "execution_count": 79,
   "metadata": {},
   "outputs": [
    {
     "data": {
      "image/png": "[encoded data removed]",
      "text/plain": [
       "<Figure size 864x288 with 2 Axes>"
      ]
     },
     "metadata": {
      "needs_background": "light"
     },
     "output_type": "display_data"
    }
   ],
   "source": [
    "learn.recorder.plot_sched()"
   ]
  },
  {
   "cell_type": "markdown",
   "metadata": {},
   "source": [
    "## Grupos de parámetros"
   ]
  },
  {
   "cell_type": "code",
   "execution_count": 80,
   "metadata": {},
   "outputs": [
    {
     "data": {
      "text/plain": [
       "Sequential(\n",
       "  (0): BatchNorm2d(3, eps=1e-05, momentum=0.1, affine=True, track_running_stats=True)\n",
       "  (1): Conv2d(3, 32, kernel_size=(3, 3), stride=(2, 2), padding=(1, 1))\n",
       "  (2): ReLU()\n",
       "  (3): MaxPool2d(kernel_size=2, stride=2, padding=0, dilation=1, ceil_mode=False)\n",
       "  (4): Conv2d(32, 64, kernel_size=(3, 3), stride=(2, 2), padding=(1, 1))\n",
       "  (5): BatchNorm2d(64, eps=1e-05, momentum=0.1, affine=True, track_running_stats=True)\n",
       "  (6): ReLU()\n",
       "  (7): MaxPool2d(kernel_size=2, stride=2, padding=0, dilation=1, ceil_mode=False)\n",
       "  (8): Conv2d(64, 128, kernel_size=(3, 3), stride=(2, 2), padding=(1, 1))\n",
       "  (9): BatchNorm2d(128, eps=1e-05, momentum=0.1, affine=True, track_running_stats=True)\n",
       "  (10): ReLU()\n",
       "  (11): MaxPool2d(kernel_size=2, stride=2, padding=0, dilation=1, ceil_mode=False)\n",
       "  (12): Conv2d(128, 256, kernel_size=(3, 3), stride=(2, 2), padding=(1, 1))\n",
       "  (13): BatchNorm2d(256, eps=1e-05, momentum=0.1, affine=True, track_running_stats=True)\n",
       "  (14): ReLU()\n",
       "  (15): MaxPool2d(kernel_size=2, stride=2, padding=0, dilation=1, ceil_mode=False)\n",
       "  (16): Conv2d(256, 512, kernel_size=(3, 3), stride=(2, 2), padding=(1, 1))\n",
       "  (17): ReLU()\n",
       "  (18): AdaptiveAvgPool2d(output_size=1)\n",
       "  (19): Flatten()\n",
       "  (20): BatchNorm1d(512, eps=1e-05, momentum=0.1, affine=True, track_running_stats=True)\n",
       "  (21): Linear(in_features=512, out_features=256, bias=True)\n",
       "  (22): ReLU()\n",
       "  (23): BatchNorm1d(256, eps=1e-05, momentum=0.1, affine=True, track_running_stats=True)\n",
       "  (24): Linear(in_features=256, out_features=102, bias=True)\n",
       ")"
      ]
     },
     "execution_count": 80,
     "metadata": {},
     "output_type": "execute_result"
    }
   ],
   "source": [
    "model_bn"
   ]
  },
  {
   "cell_type": "code",
   "execution_count": 81,
   "metadata": {},
   "outputs": [],
   "source": [
    "def my_own_splitter(m):\n",
    "    return [list(group.parameters()) for group in [m[0:2], m[2:10], m[10:19], m[19:]]] #la última parte genuinamente tiene que estar en su propio grupo, todo lo demás es medio a tu gusto"
   ]
  },
  {
   "cell_type": "code",
   "execution_count": 82,
   "metadata": {},
   "outputs": [],
   "source": [
    "learn = fv.Learner(data,model_bn,\n",
    "                   opt_func=fv.ranger,metrics=fv.accuracy,\n",
    "                   splitter=my_own_splitter\n",
    "                  )"
   ]
  },
  {
   "cell_type": "code",
   "execution_count": 83,
   "metadata": {},
   "outputs": [],
   "source": [
    "learn.freeze_to(-1) #congelo todo menos el último grupo"
   ]
  },
  {
   "cell_type": "code",
   "execution_count": 84,
   "metadata": {},
   "outputs": [
    {
     "data": {
      "text/html": [
       "<table border=\"1\" class=\"dataframe\">\n",
       "  <thead>\n",
       "    <tr style=\"text-align: left;\">\n",
       "      <th>epoch</th>\n",
       "      <th>train_loss</th>\n",
       "      <th>valid_loss</th>\n",
       "      <th>accuracy</th>\n",
       "      <th>time</th>\n",
       "    </tr>\n",
       "  </thead>\n",
       "  <tbody>\n",
       "    <tr>\n",
       "      <td>0</td>\n",
       "      <td>None</td>\n",
       "      <td>None</td>\n",
       "      <td>00:00</td>\n",
       "    </tr>\n",
       "  </tbody>\n",
       "</table>"
      ],
      "text/plain": [
       "<IPython.core.display.HTML object>"
      ]
     },
     "metadata": {},
     "output_type": "display_data"
    },
    {
     "data": {
      "text/plain": [
       "Sequential (Input shape: ['128 x 3 x 224 x 224'])\n",
       "================================================================\n",
       "Layer (type)         Output Shape         Param #    Trainable \n",
       "================================================================\n",
       "BatchNorm2d          128 x 3 x 224 x 224  6          True      \n",
       "________________________________________________________________\n",
       "Conv2d               128 x 32 x 112 x 11  896        False     \n",
       "________________________________________________________________\n",
       "ReLU                 128 x 32 x 112 x 11  0          False     \n",
       "________________________________________________________________\n",
       "MaxPool2d            128 x 32 x 56 x 56   0          False     \n",
       "________________________________________________________________\n",
       "Conv2d               128 x 64 x 28 x 28   18,496     False     \n",
       "________________________________________________________________\n",
       "BatchNorm2d          128 x 64 x 28 x 28   128        True      \n",
       "________________________________________________________________\n",
       "ReLU                 128 x 64 x 28 x 28   0          False     \n",
       "________________________________________________________________\n",
       "MaxPool2d            128 x 64 x 14 x 14   0          False     \n",
       "________________________________________________________________\n",
       "Conv2d               128 x 128 x 7 x 7    73,856     False     \n",
       "________________________________________________________________\n",
       "BatchNorm2d          128 x 128 x 7 x 7    256        True      \n",
       "________________________________________________________________\n",
       "ReLU                 128 x 128 x 7 x 7    0          False     \n",
       "________________________________________________________________\n",
       "MaxPool2d            128 x 128 x 3 x 3    0          False     \n",
       "________________________________________________________________\n",
       "Conv2d               128 x 256 x 2 x 2    295,168    False     \n",
       "________________________________________________________________\n",
       "BatchNorm2d          128 x 256 x 2 x 2    512        True      \n",
       "________________________________________________________________\n",
       "ReLU                 128 x 256 x 2 x 2    0          False     \n",
       "________________________________________________________________\n",
       "MaxPool2d            128 x 256 x 1 x 1    0          False     \n",
       "________________________________________________________________\n",
       "Conv2d               128 x 512 x 1 x 1    1,180,160  False     \n",
       "________________________________________________________________\n",
       "ReLU                 128 x 512 x 1 x 1    0          False     \n",
       "________________________________________________________________\n",
       "AdaptiveAvgPool2d    128 x 512 x 1 x 1    0          False     \n",
       "________________________________________________________________\n",
       "Flatten              128 x 512            0          False     \n",
       "________________________________________________________________\n",
       "BatchNorm1d          128 x 512            1,024      True      \n",
       "________________________________________________________________\n",
       "Linear               128 x 256            131,328    True      \n",
       "________________________________________________________________\n",
       "ReLU                 128 x 256            0          False     \n",
       "________________________________________________________________\n",
       "BatchNorm1d          128 x 256            512        True      \n",
       "________________________________________________________________\n",
       "Linear               128 x 102            26,214     True      \n",
       "________________________________________________________________\n",
       "\n",
       "Total params: 1,728,556\n",
       "Total trainable params: 159,980\n",
       "Total non-trainable params: 1,568,576\n",
       "\n",
       "Optimizer used: <function ranger at 0x7f74b5f6aaf0>\n",
       "Loss function: FlattenedLoss of CrossEntropyLoss()\n",
       "\n",
       "Model frozen up to parameter group #3\n",
       "\n",
       "Callbacks:\n",
       "  - TrainEvalCallback\n",
       "  - Recorder\n",
       "  - ProgressCallback"
      ]
     },
     "execution_count": 84,
     "metadata": {},
     "output_type": "execute_result"
    }
   ],
   "source": [
    "learn.summary() #las batch norm no las congela nunca"
   ]
  },
  {
   "cell_type": "code",
   "execution_count": 85,
   "metadata": {},
   "outputs": [
    {
     "data": {
      "text/html": [
       "<table border=\"1\" class=\"dataframe\">\n",
       "  <thead>\n",
       "    <tr style=\"text-align: left;\">\n",
       "      <th>epoch</th>\n",
       "      <th>train_loss</th>\n",
       "      <th>valid_loss</th>\n",
       "      <th>accuracy</th>\n",
       "      <th>time</th>\n",
       "    </tr>\n",
       "  </thead>\n",
       "  <tbody>\n",
       "    <tr>\n",
       "      <td>0</td>\n",
       "      <td>1.351990</td>\n",
       "      <td>1.390127</td>\n",
       "      <td>0.609467</td>\n",
       "      <td>00:14</td>\n",
       "    </tr>\n",
       "  </tbody>\n",
       "</table>"
      ],
      "text/plain": [
       "<IPython.core.display.HTML object>"
      ]
     },
     "metadata": {},
     "output_type": "display_data"
    }
   ],
   "source": [
    "learn.fit_one_cycle(1,slice(1e-6,1e-3)) #y aquí usa como partimos arriba"
   ]
  },
  {
   "cell_type": "code",
   "execution_count": 86,
   "metadata": {},
   "outputs": [],
   "source": [
    "#model_bn[-1] = nn.Linear(256,35) #si ahora voy a entrenar con lo de animales y animales solamente tiene 35 categorías"
   ]
  },
  {
   "cell_type": "code",
   "execution_count": 87,
   "metadata": {},
   "outputs": [],
   "source": [
    "#Y ahora voy a entrenar otra vez el modelo porque ya está con números aleatorios"
   ]
  },
  {
   "cell_type": "code",
   "execution_count": null,
   "metadata": {},
   "outputs": [],
   "source": []
  }
 ],
 "metadata": {
  "kernelspec": {
   "display_name": "Python 3",
   "language": "python",
   "name": "python3"
  },
  "language_info": {
   "codemirror_mode": {
    "name": "ipython",
    "version": 3
   },
   "file_extension": ".py",
   "mimetype": "text/x-python",
   "name": "python",
   "nbconvert_exporter": "python",
   "pygments_lexer": "ipython3",
   "version": "3.8.5"
  }
 },
 "nbformat": 4,
 "nbformat_minor": 4
}
